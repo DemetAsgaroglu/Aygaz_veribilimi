{
 "cells": [
  {
   "cell_type": "code",
   "execution_count": 1,
   "id": "4e29ab90",
   "metadata": {
    "_cell_guid": "b1076dfc-b9ad-4769-8c92-a6c4dae69d19",
    "_uuid": "8f2839f25d086af736a60e9eeb907d3b93b6e0e5",
    "execution": {
     "iopub.execute_input": "2024-11-21T20:44:11.426625Z",
     "iopub.status.busy": "2024-11-21T20:44:11.425784Z",
     "iopub.status.idle": "2024-11-21T20:44:12.467316Z",
     "shell.execute_reply": "2024-11-21T20:44:12.465897Z"
    },
    "papermill": {
     "duration": 1.05506,
     "end_time": "2024-11-21T20:44:12.469614",
     "exception": false,
     "start_time": "2024-11-21T20:44:11.414554",
     "status": "completed"
    },
    "tags": []
   },
   "outputs": [
    {
     "name": "stdout",
     "output_type": "stream",
     "text": [
      "/kaggle/input/online-sales-dataset/online_sales_dataset.csv\n"
     ]
    }
   ],
   "source": [
    "# This Python 3 environment comes with many helpful analytics libraries installed\n",
    "# It is defined by the kaggle/python Docker image: https://github.com/kaggle/docker-python\n",
    "# For example, here's several helpful packages to load\n",
    "\n",
    "import numpy as np # linear algebra\n",
    "import pandas as pd # data processing, CSV file I/O (e.g. pd.read_csv)\n",
    "\n",
    "# Input data files are available in the read-only \"../input/\" directory\n",
    "# For example, running this (by clicking run or pressing Shift+Enter) will list all files under the input directory\n",
    "\n",
    "import os\n",
    "for dirname, _, filenames in os.walk('/kaggle/input'):\n",
    "    for filename in filenames:\n",
    "        print(os.path.join(dirname, filename))\n",
    "\n",
    "# You can write up to 20GB to the current directory (/kaggle/working/) that gets preserved as output when you create a version using \"Save & Run All\" \n",
    "# You can also write temporary files to /kaggle/temp/, but they won't be saved outside of the current session"
   ]
  },
  {
   "cell_type": "code",
   "execution_count": 2,
   "id": "ed9a70db",
   "metadata": {
    "execution": {
     "iopub.execute_input": "2024-11-21T20:44:12.492039Z",
     "iopub.status.busy": "2024-11-21T20:44:12.491435Z",
     "iopub.status.idle": "2024-11-21T20:44:14.387121Z",
     "shell.execute_reply": "2024-11-21T20:44:14.385912Z"
    },
    "papermill": {
     "duration": 1.909566,
     "end_time": "2024-11-21T20:44:14.389604",
     "exception": false,
     "start_time": "2024-11-21T20:44:12.480038",
     "status": "completed"
    },
    "tags": []
   },
   "outputs": [],
   "source": [
    "import numpy as np\n",
    "import pandas as pd \n",
    "import matplotlib.pyplot as plt\n",
    "import seaborn as sns"
   ]
  },
  {
   "cell_type": "code",
   "execution_count": 3,
   "id": "996ea028",
   "metadata": {
    "execution": {
     "iopub.execute_input": "2024-11-21T20:44:14.409377Z",
     "iopub.status.busy": "2024-11-21T20:44:14.408848Z",
     "iopub.status.idle": "2024-11-21T20:44:14.669877Z",
     "shell.execute_reply": "2024-11-21T20:44:14.668554Z"
    },
    "papermill": {
     "duration": 0.274888,
     "end_time": "2024-11-21T20:44:14.673516",
     "exception": false,
     "start_time": "2024-11-21T20:44:14.398628",
     "status": "completed"
    },
    "tags": []
   },
   "outputs": [],
   "source": [
    "df=pd.read_csv(\"/kaggle/input/online-sales-dataset/online_sales_dataset.csv\")"
   ]
  },
  {
   "cell_type": "code",
   "execution_count": 4,
   "id": "e309a5b2",
   "metadata": {
    "execution": {
     "iopub.execute_input": "2024-11-21T20:44:14.696281Z",
     "iopub.status.busy": "2024-11-21T20:44:14.695180Z",
     "iopub.status.idle": "2024-11-21T20:44:14.729109Z",
     "shell.execute_reply": "2024-11-21T20:44:14.727934Z"
    },
    "papermill": {
     "duration": 0.046872,
     "end_time": "2024-11-21T20:44:14.731624",
     "exception": false,
     "start_time": "2024-11-21T20:44:14.684752",
     "status": "completed"
    },
    "tags": []
   },
   "outputs": [
    {
     "data": {
      "text/html": [
       "<div>\n",
       "<style scoped>\n",
       "    .dataframe tbody tr th:only-of-type {\n",
       "        vertical-align: middle;\n",
       "    }\n",
       "\n",
       "    .dataframe tbody tr th {\n",
       "        vertical-align: top;\n",
       "    }\n",
       "\n",
       "    .dataframe thead th {\n",
       "        text-align: right;\n",
       "    }\n",
       "</style>\n",
       "<table border=\"1\" class=\"dataframe\">\n",
       "  <thead>\n",
       "    <tr style=\"text-align: right;\">\n",
       "      <th></th>\n",
       "      <th>InvoiceNo</th>\n",
       "      <th>StockCode</th>\n",
       "      <th>Description</th>\n",
       "      <th>Quantity</th>\n",
       "      <th>InvoiceDate</th>\n",
       "      <th>UnitPrice</th>\n",
       "      <th>CustomerID</th>\n",
       "      <th>Country</th>\n",
       "      <th>Discount</th>\n",
       "      <th>PaymentMethod</th>\n",
       "      <th>ShippingCost</th>\n",
       "      <th>Category</th>\n",
       "      <th>SalesChannel</th>\n",
       "      <th>ReturnStatus</th>\n",
       "      <th>ShipmentProvider</th>\n",
       "      <th>WarehouseLocation</th>\n",
       "      <th>OrderPriority</th>\n",
       "    </tr>\n",
       "  </thead>\n",
       "  <tbody>\n",
       "    <tr>\n",
       "      <th>0</th>\n",
       "      <td>221958</td>\n",
       "      <td>SKU_1964</td>\n",
       "      <td>White Mug</td>\n",
       "      <td>38</td>\n",
       "      <td>2020-01-01 00:00</td>\n",
       "      <td>1.71</td>\n",
       "      <td>37039.0</td>\n",
       "      <td>Australia</td>\n",
       "      <td>0.470000</td>\n",
       "      <td>Bank Transfer</td>\n",
       "      <td>10.79</td>\n",
       "      <td>Apparel</td>\n",
       "      <td>In-store</td>\n",
       "      <td>Not Returned</td>\n",
       "      <td>UPS</td>\n",
       "      <td>London</td>\n",
       "      <td>Medium</td>\n",
       "    </tr>\n",
       "    <tr>\n",
       "      <th>1</th>\n",
       "      <td>771155</td>\n",
       "      <td>SKU_1241</td>\n",
       "      <td>White Mug</td>\n",
       "      <td>18</td>\n",
       "      <td>2020-01-01 01:00</td>\n",
       "      <td>41.25</td>\n",
       "      <td>19144.0</td>\n",
       "      <td>Spain</td>\n",
       "      <td>0.190000</td>\n",
       "      <td>paypall</td>\n",
       "      <td>9.51</td>\n",
       "      <td>Electronics</td>\n",
       "      <td>Online</td>\n",
       "      <td>Not Returned</td>\n",
       "      <td>UPS</td>\n",
       "      <td>Rome</td>\n",
       "      <td>Medium</td>\n",
       "    </tr>\n",
       "    <tr>\n",
       "      <th>2</th>\n",
       "      <td>231932</td>\n",
       "      <td>SKU_1501</td>\n",
       "      <td>Headphones</td>\n",
       "      <td>49</td>\n",
       "      <td>2020-01-01 02:00</td>\n",
       "      <td>29.11</td>\n",
       "      <td>50472.0</td>\n",
       "      <td>Germany</td>\n",
       "      <td>0.350000</td>\n",
       "      <td>Bank Transfer</td>\n",
       "      <td>23.03</td>\n",
       "      <td>Electronics</td>\n",
       "      <td>Online</td>\n",
       "      <td>Returned</td>\n",
       "      <td>UPS</td>\n",
       "      <td>Berlin</td>\n",
       "      <td>High</td>\n",
       "    </tr>\n",
       "    <tr>\n",
       "      <th>3</th>\n",
       "      <td>465838</td>\n",
       "      <td>SKU_1760</td>\n",
       "      <td>Desk Lamp</td>\n",
       "      <td>14</td>\n",
       "      <td>2020-01-01 03:00</td>\n",
       "      <td>76.68</td>\n",
       "      <td>96586.0</td>\n",
       "      <td>Netherlands</td>\n",
       "      <td>0.140000</td>\n",
       "      <td>paypall</td>\n",
       "      <td>11.08</td>\n",
       "      <td>Accessories</td>\n",
       "      <td>Online</td>\n",
       "      <td>Not Returned</td>\n",
       "      <td>Royal Mail</td>\n",
       "      <td>Rome</td>\n",
       "      <td>Low</td>\n",
       "    </tr>\n",
       "    <tr>\n",
       "      <th>4</th>\n",
       "      <td>359178</td>\n",
       "      <td>SKU_1386</td>\n",
       "      <td>USB Cable</td>\n",
       "      <td>-30</td>\n",
       "      <td>2020-01-01 04:00</td>\n",
       "      <td>-68.11</td>\n",
       "      <td>NaN</td>\n",
       "      <td>United Kingdom</td>\n",
       "      <td>1.501433</td>\n",
       "      <td>Bank Transfer</td>\n",
       "      <td>NaN</td>\n",
       "      <td>Electronics</td>\n",
       "      <td>In-store</td>\n",
       "      <td>Not Returned</td>\n",
       "      <td>FedEx</td>\n",
       "      <td>NaN</td>\n",
       "      <td>Medium</td>\n",
       "    </tr>\n",
       "    <tr>\n",
       "      <th>5</th>\n",
       "      <td>744167</td>\n",
       "      <td>SKU_1006</td>\n",
       "      <td>Office Chair</td>\n",
       "      <td>47</td>\n",
       "      <td>2020-01-01 05:00</td>\n",
       "      <td>70.16</td>\n",
       "      <td>53887.0</td>\n",
       "      <td>Sweden</td>\n",
       "      <td>0.480000</td>\n",
       "      <td>Credit Card</td>\n",
       "      <td>13.98</td>\n",
       "      <td>Electronics</td>\n",
       "      <td>Online</td>\n",
       "      <td>Not Returned</td>\n",
       "      <td>DHL</td>\n",
       "      <td>London</td>\n",
       "      <td>Medium</td>\n",
       "    </tr>\n",
       "    <tr>\n",
       "      <th>6</th>\n",
       "      <td>210268</td>\n",
       "      <td>SKU_1087</td>\n",
       "      <td>USB Cable</td>\n",
       "      <td>25</td>\n",
       "      <td>2020-01-01 06:00</td>\n",
       "      <td>85.74</td>\n",
       "      <td>46567.0</td>\n",
       "      <td>Belgium</td>\n",
       "      <td>0.150000</td>\n",
       "      <td>Bank Transfer</td>\n",
       "      <td>12.92</td>\n",
       "      <td>Stationery</td>\n",
       "      <td>Online</td>\n",
       "      <td>Not Returned</td>\n",
       "      <td>FedEx</td>\n",
       "      <td>Amsterdam</td>\n",
       "      <td>High</td>\n",
       "    </tr>\n",
       "    <tr>\n",
       "      <th>7</th>\n",
       "      <td>832180</td>\n",
       "      <td>SKU_1597</td>\n",
       "      <td>Notebook</td>\n",
       "      <td>8</td>\n",
       "      <td>2020-01-01 07:00</td>\n",
       "      <td>95.65</td>\n",
       "      <td>75098.0</td>\n",
       "      <td>Norway</td>\n",
       "      <td>0.040000</td>\n",
       "      <td>Bank Transfer</td>\n",
       "      <td>6.48</td>\n",
       "      <td>Electronics</td>\n",
       "      <td>In-store</td>\n",
       "      <td>Not Returned</td>\n",
       "      <td>Royal Mail</td>\n",
       "      <td>Amsterdam</td>\n",
       "      <td>Low</td>\n",
       "    </tr>\n",
       "    <tr>\n",
       "      <th>8</th>\n",
       "      <td>154886</td>\n",
       "      <td>SKU_1907</td>\n",
       "      <td>Wireless Mouse</td>\n",
       "      <td>19</td>\n",
       "      <td>2020-01-01 08:00</td>\n",
       "      <td>98.19</td>\n",
       "      <td>87950.0</td>\n",
       "      <td>Belgium</td>\n",
       "      <td>0.050000</td>\n",
       "      <td>paypall</td>\n",
       "      <td>12.56</td>\n",
       "      <td>Apparel</td>\n",
       "      <td>Online</td>\n",
       "      <td>Not Returned</td>\n",
       "      <td>UPS</td>\n",
       "      <td>Berlin</td>\n",
       "      <td>High</td>\n",
       "    </tr>\n",
       "    <tr>\n",
       "      <th>9</th>\n",
       "      <td>237337</td>\n",
       "      <td>SKU_1866</td>\n",
       "      <td>Headphones</td>\n",
       "      <td>40</td>\n",
       "      <td>2020-01-01 09:00</td>\n",
       "      <td>98.17</td>\n",
       "      <td>39718.0</td>\n",
       "      <td>Italy</td>\n",
       "      <td>0.160000</td>\n",
       "      <td>Bank Transfer</td>\n",
       "      <td>7.71</td>\n",
       "      <td>Apparel</td>\n",
       "      <td>Online</td>\n",
       "      <td>Not Returned</td>\n",
       "      <td>Royal Mail</td>\n",
       "      <td>London</td>\n",
       "      <td>Low</td>\n",
       "    </tr>\n",
       "  </tbody>\n",
       "</table>\n",
       "</div>"
      ],
      "text/plain": [
       "   InvoiceNo StockCode     Description  Quantity       InvoiceDate  UnitPrice  \\\n",
       "0     221958  SKU_1964       White Mug        38  2020-01-01 00:00       1.71   \n",
       "1     771155  SKU_1241       White Mug        18  2020-01-01 01:00      41.25   \n",
       "2     231932  SKU_1501      Headphones        49  2020-01-01 02:00      29.11   \n",
       "3     465838  SKU_1760       Desk Lamp        14  2020-01-01 03:00      76.68   \n",
       "4     359178  SKU_1386       USB Cable       -30  2020-01-01 04:00     -68.11   \n",
       "5     744167  SKU_1006    Office Chair        47  2020-01-01 05:00      70.16   \n",
       "6     210268  SKU_1087       USB Cable        25  2020-01-01 06:00      85.74   \n",
       "7     832180  SKU_1597        Notebook         8  2020-01-01 07:00      95.65   \n",
       "8     154886  SKU_1907  Wireless Mouse        19  2020-01-01 08:00      98.19   \n",
       "9     237337  SKU_1866      Headphones        40  2020-01-01 09:00      98.17   \n",
       "\n",
       "   CustomerID         Country  Discount  PaymentMethod  ShippingCost  \\\n",
       "0     37039.0       Australia  0.470000  Bank Transfer         10.79   \n",
       "1     19144.0           Spain  0.190000        paypall          9.51   \n",
       "2     50472.0         Germany  0.350000  Bank Transfer         23.03   \n",
       "3     96586.0     Netherlands  0.140000        paypall         11.08   \n",
       "4         NaN  United Kingdom  1.501433  Bank Transfer           NaN   \n",
       "5     53887.0          Sweden  0.480000    Credit Card         13.98   \n",
       "6     46567.0         Belgium  0.150000  Bank Transfer         12.92   \n",
       "7     75098.0          Norway  0.040000  Bank Transfer          6.48   \n",
       "8     87950.0         Belgium  0.050000        paypall         12.56   \n",
       "9     39718.0           Italy  0.160000  Bank Transfer          7.71   \n",
       "\n",
       "      Category SalesChannel  ReturnStatus ShipmentProvider WarehouseLocation  \\\n",
       "0      Apparel     In-store  Not Returned              UPS            London   \n",
       "1  Electronics       Online  Not Returned              UPS              Rome   \n",
       "2  Electronics       Online      Returned              UPS            Berlin   \n",
       "3  Accessories       Online  Not Returned       Royal Mail              Rome   \n",
       "4  Electronics     In-store  Not Returned            FedEx               NaN   \n",
       "5  Electronics       Online  Not Returned              DHL            London   \n",
       "6   Stationery       Online  Not Returned            FedEx         Amsterdam   \n",
       "7  Electronics     In-store  Not Returned       Royal Mail         Amsterdam   \n",
       "8      Apparel       Online  Not Returned              UPS            Berlin   \n",
       "9      Apparel       Online  Not Returned       Royal Mail            London   \n",
       "\n",
       "  OrderPriority  \n",
       "0        Medium  \n",
       "1        Medium  \n",
       "2          High  \n",
       "3           Low  \n",
       "4        Medium  \n",
       "5        Medium  \n",
       "6          High  \n",
       "7           Low  \n",
       "8          High  \n",
       "9           Low  "
      ]
     },
     "execution_count": 4,
     "metadata": {},
     "output_type": "execute_result"
    }
   ],
   "source": [
    "df.head(10)"
   ]
  },
  {
   "cell_type": "code",
   "execution_count": 5,
   "id": "b9483846",
   "metadata": {
    "execution": {
     "iopub.execute_input": "2024-11-21T20:44:14.753962Z",
     "iopub.status.busy": "2024-11-21T20:44:14.753545Z",
     "iopub.status.idle": "2024-11-21T20:44:14.777211Z",
     "shell.execute_reply": "2024-11-21T20:44:14.775203Z"
    },
    "papermill": {
     "duration": 0.038594,
     "end_time": "2024-11-21T20:44:14.781070",
     "exception": false,
     "start_time": "2024-11-21T20:44:14.742476",
     "status": "completed"
    },
    "tags": []
   },
   "outputs": [
    {
     "data": {
      "text/plain": [
       "<bound method DataFrame.info of        InvoiceNo StockCode   Description  Quantity       InvoiceDate  \\\n",
       "0         221958  SKU_1964     White Mug        38  2020-01-01 00:00   \n",
       "1         771155  SKU_1241     White Mug        18  2020-01-01 01:00   \n",
       "2         231932  SKU_1501    Headphones        49  2020-01-01 02:00   \n",
       "3         465838  SKU_1760     Desk Lamp        14  2020-01-01 03:00   \n",
       "4         359178  SKU_1386     USB Cable       -30  2020-01-01 04:00   \n",
       "...          ...       ...           ...       ...               ...   \n",
       "49777     354083  SKU_1562      Blue Pen        25  2025-09-05 01:00   \n",
       "49778     296698  SKU_1930     USB Cable         7  2025-09-05 02:00   \n",
       "49779     177622  SKU_1766  Office Chair        43  2025-09-05 03:00   \n",
       "49780     701213  SKU_1602      Notebook        48  2025-09-05 04:00   \n",
       "49781     772215  SKU_1832     White Mug        30  2025-09-05 05:00   \n",
       "\n",
       "       UnitPrice  CustomerID         Country  Discount  PaymentMethod  \\\n",
       "0           1.71     37039.0       Australia  0.470000  Bank Transfer   \n",
       "1          41.25     19144.0           Spain  0.190000        paypall   \n",
       "2          29.11     50472.0         Germany  0.350000  Bank Transfer   \n",
       "3          76.68     96586.0     Netherlands  0.140000        paypall   \n",
       "4         -68.11         NaN  United Kingdom  1.501433  Bank Transfer   \n",
       "...          ...         ...             ...       ...            ...   \n",
       "49777      70.92     51445.0           Spain  0.200000    Credit Card   \n",
       "49778      51.74     28879.0   United States  0.230000  Bank Transfer   \n",
       "49779      85.25     21825.0        Portugal  0.200000  Bank Transfer   \n",
       "49780      39.64     43199.0  United Kingdom  0.310000        paypall   \n",
       "49781      38.27     53328.0          France  0.100000    Credit Card   \n",
       "\n",
       "       ShippingCost     Category SalesChannel  ReturnStatus ShipmentProvider  \\\n",
       "0             10.79      Apparel     In-store  Not Returned              UPS   \n",
       "1              9.51  Electronics       Online  Not Returned              UPS   \n",
       "2             23.03  Electronics       Online      Returned              UPS   \n",
       "3             11.08  Accessories       Online  Not Returned       Royal Mail   \n",
       "4               NaN  Electronics     In-store  Not Returned            FedEx   \n",
       "...             ...          ...          ...           ...              ...   \n",
       "49777          8.96  Electronics       Online      Returned              UPS   \n",
       "49778         23.55  Electronics       Online  Not Returned            FedEx   \n",
       "49779         16.26    Furniture     In-store  Not Returned            FedEx   \n",
       "49780         28.56      Apparel       Online  Not Returned       Royal Mail   \n",
       "49781          9.13   Stationery       Online  Not Returned              UPS   \n",
       "\n",
       "      WarehouseLocation OrderPriority  \n",
       "0                London        Medium  \n",
       "1                  Rome        Medium  \n",
       "2                Berlin          High  \n",
       "3                  Rome           Low  \n",
       "4                   NaN        Medium  \n",
       "...                 ...           ...  \n",
       "49777            Berlin        Medium  \n",
       "49778         Amsterdam           Low  \n",
       "49779            London          High  \n",
       "49780            London        Medium  \n",
       "49781              Rome           Low  \n",
       "\n",
       "[49782 rows x 17 columns]>"
      ]
     },
     "execution_count": 5,
     "metadata": {},
     "output_type": "execute_result"
    }
   ],
   "source": [
    "df.info"
   ]
  },
  {
   "cell_type": "code",
   "execution_count": 6,
   "id": "d3856d19",
   "metadata": {
    "execution": {
     "iopub.execute_input": "2024-11-21T20:44:14.804121Z",
     "iopub.status.busy": "2024-11-21T20:44:14.803699Z",
     "iopub.status.idle": "2024-11-21T20:44:14.843500Z",
     "shell.execute_reply": "2024-11-21T20:44:14.841883Z"
    },
    "papermill": {
     "duration": 0.054674,
     "end_time": "2024-11-21T20:44:14.846513",
     "exception": false,
     "start_time": "2024-11-21T20:44:14.791839",
     "status": "completed"
    },
    "tags": []
   },
   "outputs": [
    {
     "data": {
      "text/plain": [
       "InvoiceNo               0\n",
       "StockCode               0\n",
       "Description             0\n",
       "Quantity                0\n",
       "InvoiceDate             0\n",
       "UnitPrice               0\n",
       "CustomerID           4978\n",
       "Country                 0\n",
       "Discount                0\n",
       "PaymentMethod           0\n",
       "ShippingCost         2489\n",
       "Category                0\n",
       "SalesChannel            0\n",
       "ReturnStatus            0\n",
       "ShipmentProvider        0\n",
       "WarehouseLocation    3485\n",
       "OrderPriority           0\n",
       "dtype: int64"
      ]
     },
     "execution_count": 6,
     "metadata": {},
     "output_type": "execute_result"
    }
   ],
   "source": [
    "df.isnull().sum()"
   ]
  },
  {
   "cell_type": "markdown",
   "id": "d462405b",
   "metadata": {
    "papermill": {
     "duration": 0.009432,
     "end_time": "2024-11-21T20:44:14.865958",
     "exception": false,
     "start_time": "2024-11-21T20:44:14.856526",
     "status": "completed"
    },
    "tags": []
   },
   "source": [
    "# Eksik Verileri Düzeltme\n",
    "* CustomerID= Müşteri kimlikleri içindir. Unknown etiketi ile doldurabiliriz.\n",
    "* ShippingCost= İşlem nakliye fiyatı içindir. Ortalama ile doldurmak daha uygundur. \n",
    "* WarehouseLocation= Siparişin karşılandığı depo yeri. Unknown etiketi ile doldurabiliriz"
   ]
  },
  {
   "cell_type": "code",
   "execution_count": 7,
   "id": "d57eaed2",
   "metadata": {
    "execution": {
     "iopub.execute_input": "2024-11-21T20:44:14.887674Z",
     "iopub.status.busy": "2024-11-21T20:44:14.887298Z",
     "iopub.status.idle": "2024-11-21T20:44:14.900287Z",
     "shell.execute_reply": "2024-11-21T20:44:14.899177Z"
    },
    "papermill": {
     "duration": 0.026964,
     "end_time": "2024-11-21T20:44:14.902644",
     "exception": false,
     "start_time": "2024-11-21T20:44:14.875680",
     "status": "completed"
    },
    "tags": []
   },
   "outputs": [
    {
     "name": "stderr",
     "output_type": "stream",
     "text": [
      "/tmp/ipykernel_17/3933710325.py:2: FutureWarning: A value is trying to be set on a copy of a DataFrame or Series through chained assignment using an inplace method.\n",
      "The behavior will change in pandas 3.0. This inplace method will never work because the intermediate object on which we are setting values always behaves as a copy.\n",
      "\n",
      "For example, when doing 'df[col].method(value, inplace=True)', try using 'df.method({col: value}, inplace=True)' or df[col] = df[col].method(value) instead, to perform the operation inplace on the original object.\n",
      "\n",
      "\n",
      "  df['CustomerID'].fillna('Unknown', inplace=True)\n",
      "/tmp/ipykernel_17/3933710325.py:2: FutureWarning: Setting an item of incompatible dtype is deprecated and will raise an error in a future version of pandas. Value 'Unknown' has dtype incompatible with float64, please explicitly cast to a compatible dtype first.\n",
      "  df['CustomerID'].fillna('Unknown', inplace=True)\n"
     ]
    }
   ],
   "source": [
    "# Eksik müşteri kimliklerini doldurma\n",
    "df['CustomerID'].fillna('Unknown', inplace=True)"
   ]
  },
  {
   "cell_type": "code",
   "execution_count": 8,
   "id": "bc677314",
   "metadata": {
    "execution": {
     "iopub.execute_input": "2024-11-21T20:44:14.924666Z",
     "iopub.status.busy": "2024-11-21T20:44:14.924323Z",
     "iopub.status.idle": "2024-11-21T20:44:14.943667Z",
     "shell.execute_reply": "2024-11-21T20:44:14.942509Z"
    },
    "papermill": {
     "duration": 0.033744,
     "end_time": "2024-11-21T20:44:14.946263",
     "exception": false,
     "start_time": "2024-11-21T20:44:14.912519",
     "status": "completed"
    },
    "tags": []
   },
   "outputs": [
    {
     "name": "stderr",
     "output_type": "stream",
     "text": [
      "/tmp/ipykernel_17/4126620068.py:2: FutureWarning: A value is trying to be set on a copy of a DataFrame or Series through chained assignment using an inplace method.\n",
      "The behavior will change in pandas 3.0. This inplace method will never work because the intermediate object on which we are setting values always behaves as a copy.\n",
      "\n",
      "For example, when doing 'df[col].method(value, inplace=True)', try using 'df.method({col: value}, inplace=True)' or df[col] = df[col].method(value) instead, to perform the operation inplace on the original object.\n",
      "\n",
      "\n",
      "  df['ShippingCost'].fillna(df.groupby('Category')['ShippingCost'].transform('mean'), inplace=True)\n"
     ]
    }
   ],
   "source": [
    "# Kategori bazında ortalama nakliye maliyetiyle doldurma\n",
    "df['ShippingCost'].fillna(df.groupby('Category')['ShippingCost'].transform('mean'), inplace=True)\n"
   ]
  },
  {
   "cell_type": "code",
   "execution_count": 9,
   "id": "e7d8f39a",
   "metadata": {
    "execution": {
     "iopub.execute_input": "2024-11-21T20:44:14.969763Z",
     "iopub.status.busy": "2024-11-21T20:44:14.968953Z",
     "iopub.status.idle": "2024-11-21T20:44:14.978398Z",
     "shell.execute_reply": "2024-11-21T20:44:14.977161Z"
    },
    "papermill": {
     "duration": 0.024425,
     "end_time": "2024-11-21T20:44:14.981010",
     "exception": false,
     "start_time": "2024-11-21T20:44:14.956585",
     "status": "completed"
    },
    "tags": []
   },
   "outputs": [
    {
     "name": "stderr",
     "output_type": "stream",
     "text": [
      "/tmp/ipykernel_17/3329121511.py:2: FutureWarning: A value is trying to be set on a copy of a DataFrame or Series through chained assignment using an inplace method.\n",
      "The behavior will change in pandas 3.0. This inplace method will never work because the intermediate object on which we are setting values always behaves as a copy.\n",
      "\n",
      "For example, when doing 'df[col].method(value, inplace=True)', try using 'df.method({col: value}, inplace=True)' or df[col] = df[col].method(value) instead, to perform the operation inplace on the original object.\n",
      "\n",
      "\n",
      "  df['WarehouseLocation'].fillna('Unknown', inplace=True)\n"
     ]
    }
   ],
   "source": [
    "# Eksik depo konumlarını \"Unknown\" olarak doldur\n",
    "df['WarehouseLocation'].fillna('Unknown', inplace=True)\n"
   ]
  },
  {
   "cell_type": "markdown",
   "id": "d3e41e04",
   "metadata": {
    "papermill": {
     "duration": 0.010244,
     "end_time": "2024-11-21T20:44:15.001547",
     "exception": false,
     "start_time": "2024-11-21T20:44:14.991303",
     "status": "completed"
    },
    "tags": []
   },
   "source": [
    "# Eksik Veriler Sonrası Kontrol\n"
   ]
  },
  {
   "cell_type": "code",
   "execution_count": 10,
   "id": "1855ac11",
   "metadata": {
    "execution": {
     "iopub.execute_input": "2024-11-21T20:44:15.023593Z",
     "iopub.status.busy": "2024-11-21T20:44:15.023238Z",
     "iopub.status.idle": "2024-11-21T20:44:15.062219Z",
     "shell.execute_reply": "2024-11-21T20:44:15.061141Z"
    },
    "papermill": {
     "duration": 0.053176,
     "end_time": "2024-11-21T20:44:15.064846",
     "exception": false,
     "start_time": "2024-11-21T20:44:15.011670",
     "status": "completed"
    },
    "tags": []
   },
   "outputs": [
    {
     "data": {
      "text/plain": [
       "InvoiceNo            0\n",
       "StockCode            0\n",
       "Description          0\n",
       "Quantity             0\n",
       "InvoiceDate          0\n",
       "UnitPrice            0\n",
       "CustomerID           0\n",
       "Country              0\n",
       "Discount             0\n",
       "PaymentMethod        0\n",
       "ShippingCost         0\n",
       "Category             0\n",
       "SalesChannel         0\n",
       "ReturnStatus         0\n",
       "ShipmentProvider     0\n",
       "WarehouseLocation    0\n",
       "OrderPriority        0\n",
       "dtype: int64"
      ]
     },
     "execution_count": 10,
     "metadata": {},
     "output_type": "execute_result"
    }
   ],
   "source": [
    "df.isnull().sum()"
   ]
  },
  {
   "cell_type": "markdown",
   "id": "b6e27b40",
   "metadata": {
    "papermill": {
     "duration": 0.010708,
     "end_time": "2024-11-21T20:44:15.085787",
     "exception": false,
     "start_time": "2024-11-21T20:44:15.075079",
     "status": "completed"
    },
    "tags": []
   },
   "source": [
    "#  Temel İstatistikleri İnceleme\n"
   ]
  },
  {
   "cell_type": "code",
   "execution_count": 11,
   "id": "cf47f744",
   "metadata": {
    "execution": {
     "iopub.execute_input": "2024-11-21T20:44:15.108445Z",
     "iopub.status.busy": "2024-11-21T20:44:15.108097Z",
     "iopub.status.idle": "2024-11-21T20:44:15.147164Z",
     "shell.execute_reply": "2024-11-21T20:44:15.145949Z"
    },
    "papermill": {
     "duration": 0.053695,
     "end_time": "2024-11-21T20:44:15.149664",
     "exception": false,
     "start_time": "2024-11-21T20:44:15.095969",
     "status": "completed"
    },
    "tags": []
   },
   "outputs": [
    {
     "data": {
      "text/html": [
       "<div>\n",
       "<style scoped>\n",
       "    .dataframe tbody tr th:only-of-type {\n",
       "        vertical-align: middle;\n",
       "    }\n",
       "\n",
       "    .dataframe tbody tr th {\n",
       "        vertical-align: top;\n",
       "    }\n",
       "\n",
       "    .dataframe thead th {\n",
       "        text-align: right;\n",
       "    }\n",
       "</style>\n",
       "<table border=\"1\" class=\"dataframe\">\n",
       "  <thead>\n",
       "    <tr style=\"text-align: right;\">\n",
       "      <th></th>\n",
       "      <th>InvoiceNo</th>\n",
       "      <th>Quantity</th>\n",
       "      <th>UnitPrice</th>\n",
       "      <th>Discount</th>\n",
       "      <th>ShippingCost</th>\n",
       "    </tr>\n",
       "  </thead>\n",
       "  <tbody>\n",
       "    <tr>\n",
       "      <th>count</th>\n",
       "      <td>49782.000000</td>\n",
       "      <td>49782.000000</td>\n",
       "      <td>49782.000000</td>\n",
       "      <td>49782.000000</td>\n",
       "      <td>49782.000000</td>\n",
       "    </tr>\n",
       "    <tr>\n",
       "      <th>mean</th>\n",
       "      <td>550681.239946</td>\n",
       "      <td>22.372343</td>\n",
       "      <td>47.537862</td>\n",
       "      <td>0.275748</td>\n",
       "      <td>17.494549</td>\n",
       "    </tr>\n",
       "    <tr>\n",
       "      <th>std</th>\n",
       "      <td>260703.009944</td>\n",
       "      <td>17.917774</td>\n",
       "      <td>33.479510</td>\n",
       "      <td>0.230077</td>\n",
       "      <td>7.037735</td>\n",
       "    </tr>\n",
       "    <tr>\n",
       "      <th>min</th>\n",
       "      <td>100005.000000</td>\n",
       "      <td>-50.000000</td>\n",
       "      <td>-99.980000</td>\n",
       "      <td>0.000000</td>\n",
       "      <td>5.000000</td>\n",
       "    </tr>\n",
       "    <tr>\n",
       "      <th>25%</th>\n",
       "      <td>324543.000000</td>\n",
       "      <td>11.000000</td>\n",
       "      <td>23.592500</td>\n",
       "      <td>0.130000</td>\n",
       "      <td>11.540000</td>\n",
       "    </tr>\n",
       "    <tr>\n",
       "      <th>50%</th>\n",
       "      <td>552244.000000</td>\n",
       "      <td>23.000000</td>\n",
       "      <td>48.920000</td>\n",
       "      <td>0.260000</td>\n",
       "      <td>17.509095</td>\n",
       "    </tr>\n",
       "    <tr>\n",
       "      <th>75%</th>\n",
       "      <td>776364.000000</td>\n",
       "      <td>37.000000</td>\n",
       "      <td>74.610000</td>\n",
       "      <td>0.380000</td>\n",
       "      <td>23.410000</td>\n",
       "    </tr>\n",
       "    <tr>\n",
       "      <th>max</th>\n",
       "      <td>999997.000000</td>\n",
       "      <td>49.000000</td>\n",
       "      <td>100.000000</td>\n",
       "      <td>1.999764</td>\n",
       "      <td>30.000000</td>\n",
       "    </tr>\n",
       "  </tbody>\n",
       "</table>\n",
       "</div>"
      ],
      "text/plain": [
       "           InvoiceNo      Quantity     UnitPrice      Discount  ShippingCost\n",
       "count   49782.000000  49782.000000  49782.000000  49782.000000  49782.000000\n",
       "mean   550681.239946     22.372343     47.537862      0.275748     17.494549\n",
       "std    260703.009944     17.917774     33.479510      0.230077      7.037735\n",
       "min    100005.000000    -50.000000    -99.980000      0.000000      5.000000\n",
       "25%    324543.000000     11.000000     23.592500      0.130000     11.540000\n",
       "50%    552244.000000     23.000000     48.920000      0.260000     17.509095\n",
       "75%    776364.000000     37.000000     74.610000      0.380000     23.410000\n",
       "max    999997.000000     49.000000    100.000000      1.999764     30.000000"
      ]
     },
     "execution_count": 11,
     "metadata": {},
     "output_type": "execute_result"
    }
   ],
   "source": [
    "df.describe()"
   ]
  },
  {
   "cell_type": "markdown",
   "id": "a64249f7",
   "metadata": {
    "papermill": {
     "duration": 0.010399,
     "end_time": "2024-11-21T20:44:15.170425",
     "exception": false,
     "start_time": "2024-11-21T20:44:15.160026",
     "status": "completed"
    },
    "tags": []
   },
   "source": [
    "# Eşsiz Değerleri İnceleme \n",
    "Kategorik sütunlardaki farklı değerleri görmek için unique() fonksiyonunu kullanabiliriz.\n"
   ]
  },
  {
   "cell_type": "code",
   "execution_count": 12,
   "id": "9d0a44f2",
   "metadata": {
    "execution": {
     "iopub.execute_input": "2024-11-21T20:44:15.194252Z",
     "iopub.status.busy": "2024-11-21T20:44:15.193626Z",
     "iopub.status.idle": "2024-11-21T20:44:15.204714Z",
     "shell.execute_reply": "2024-11-21T20:44:15.203454Z"
    },
    "papermill": {
     "duration": 0.026045,
     "end_time": "2024-11-21T20:44:15.207184",
     "exception": false,
     "start_time": "2024-11-21T20:44:15.181139",
     "status": "completed"
    },
    "tags": []
   },
   "outputs": [
    {
     "data": {
      "text/plain": [
       "array(['Bank Transfer', 'paypall', 'Credit Card'], dtype=object)"
      ]
     },
     "execution_count": 12,
     "metadata": {},
     "output_type": "execute_result"
    }
   ],
   "source": [
    "df['PaymentMethod'].unique()"
   ]
  },
  {
   "cell_type": "code",
   "execution_count": 13,
   "id": "100f7cf1",
   "metadata": {
    "execution": {
     "iopub.execute_input": "2024-11-21T20:44:15.231342Z",
     "iopub.status.busy": "2024-11-21T20:44:15.230910Z",
     "iopub.status.idle": "2024-11-21T20:44:15.240835Z",
     "shell.execute_reply": "2024-11-21T20:44:15.239873Z"
    },
    "papermill": {
     "duration": 0.024767,
     "end_time": "2024-11-21T20:44:15.243258",
     "exception": false,
     "start_time": "2024-11-21T20:44:15.218491",
     "status": "completed"
    },
    "tags": []
   },
   "outputs": [
    {
     "data": {
      "text/plain": [
       "array(['Australia', 'Spain', 'Germany', 'Netherlands', 'United Kingdom',\n",
       "       'Sweden', 'Belgium', 'Norway', 'Italy', 'Portugal', 'France',\n",
       "       'United States'], dtype=object)"
      ]
     },
     "execution_count": 13,
     "metadata": {},
     "output_type": "execute_result"
    }
   ],
   "source": [
    "df['Country'].unique()"
   ]
  },
  {
   "cell_type": "markdown",
   "id": "9a3e3f96",
   "metadata": {
    "papermill": {
     "duration": 0.010566,
     "end_time": "2024-11-21T20:44:15.264219",
     "exception": false,
     "start_time": "2024-11-21T20:44:15.253653",
     "status": "completed"
    },
    "tags": []
   },
   "source": [
    "# Negatif Değerleri Kontrol Et\n",
    "Quantity ve UnitPrice gibi sütunlarda negatif değerler vardır. "
   ]
  },
  {
   "cell_type": "code",
   "execution_count": 14,
   "id": "f596444e",
   "metadata": {
    "execution": {
     "iopub.execute_input": "2024-11-21T20:44:15.287098Z",
     "iopub.status.busy": "2024-11-21T20:44:15.286591Z",
     "iopub.status.idle": "2024-11-21T20:44:15.311427Z",
     "shell.execute_reply": "2024-11-21T20:44:15.310353Z"
    },
    "papermill": {
     "duration": 0.039141,
     "end_time": "2024-11-21T20:44:15.313631",
     "exception": false,
     "start_time": "2024-11-21T20:44:15.274490",
     "status": "completed"
    },
    "tags": []
   },
   "outputs": [
    {
     "data": {
      "text/html": [
       "<div>\n",
       "<style scoped>\n",
       "    .dataframe tbody tr th:only-of-type {\n",
       "        vertical-align: middle;\n",
       "    }\n",
       "\n",
       "    .dataframe tbody tr th {\n",
       "        vertical-align: top;\n",
       "    }\n",
       "\n",
       "    .dataframe thead th {\n",
       "        text-align: right;\n",
       "    }\n",
       "</style>\n",
       "<table border=\"1\" class=\"dataframe\">\n",
       "  <thead>\n",
       "    <tr style=\"text-align: right;\">\n",
       "      <th></th>\n",
       "      <th>InvoiceNo</th>\n",
       "      <th>StockCode</th>\n",
       "      <th>Description</th>\n",
       "      <th>Quantity</th>\n",
       "      <th>InvoiceDate</th>\n",
       "      <th>UnitPrice</th>\n",
       "      <th>CustomerID</th>\n",
       "      <th>Country</th>\n",
       "      <th>Discount</th>\n",
       "      <th>PaymentMethod</th>\n",
       "      <th>ShippingCost</th>\n",
       "      <th>Category</th>\n",
       "      <th>SalesChannel</th>\n",
       "      <th>ReturnStatus</th>\n",
       "      <th>ShipmentProvider</th>\n",
       "      <th>WarehouseLocation</th>\n",
       "      <th>OrderPriority</th>\n",
       "    </tr>\n",
       "  </thead>\n",
       "  <tbody>\n",
       "    <tr>\n",
       "      <th>4</th>\n",
       "      <td>359178</td>\n",
       "      <td>SKU_1386</td>\n",
       "      <td>USB Cable</td>\n",
       "      <td>-30</td>\n",
       "      <td>2020-01-01 04:00</td>\n",
       "      <td>-68.11</td>\n",
       "      <td>Unknown</td>\n",
       "      <td>United Kingdom</td>\n",
       "      <td>1.501433</td>\n",
       "      <td>Bank Transfer</td>\n",
       "      <td>17.457077</td>\n",
       "      <td>Electronics</td>\n",
       "      <td>In-store</td>\n",
       "      <td>Not Returned</td>\n",
       "      <td>FedEx</td>\n",
       "      <td>Unknown</td>\n",
       "      <td>Medium</td>\n",
       "    </tr>\n",
       "    <tr>\n",
       "      <th>147</th>\n",
       "      <td>747972</td>\n",
       "      <td>SKU_1514</td>\n",
       "      <td>Desk Lamp</td>\n",
       "      <td>-26</td>\n",
       "      <td>2020-01-07 03:00</td>\n",
       "      <td>-72.33</td>\n",
       "      <td>Unknown</td>\n",
       "      <td>Netherlands</td>\n",
       "      <td>1.972087</td>\n",
       "      <td>paypall</td>\n",
       "      <td>17.457077</td>\n",
       "      <td>Electronics</td>\n",
       "      <td>In-store</td>\n",
       "      <td>Not Returned</td>\n",
       "      <td>Royal Mail</td>\n",
       "      <td>Unknown</td>\n",
       "      <td>Low</td>\n",
       "    </tr>\n",
       "    <tr>\n",
       "      <th>167</th>\n",
       "      <td>318969</td>\n",
       "      <td>SKU_1115</td>\n",
       "      <td>Desk Lamp</td>\n",
       "      <td>-19</td>\n",
       "      <td>2020-01-07 23:00</td>\n",
       "      <td>-3.61</td>\n",
       "      <td>Unknown</td>\n",
       "      <td>Italy</td>\n",
       "      <td>1.052254</td>\n",
       "      <td>Credit Card</td>\n",
       "      <td>17.509095</td>\n",
       "      <td>Apparel</td>\n",
       "      <td>In-store</td>\n",
       "      <td>Not Returned</td>\n",
       "      <td>UPS</td>\n",
       "      <td>Unknown</td>\n",
       "      <td>High</td>\n",
       "    </tr>\n",
       "    <tr>\n",
       "      <th>199</th>\n",
       "      <td>867595</td>\n",
       "      <td>SKU_1343</td>\n",
       "      <td>White Mug</td>\n",
       "      <td>-2</td>\n",
       "      <td>2020-01-09 07:00</td>\n",
       "      <td>-96.08</td>\n",
       "      <td>Unknown</td>\n",
       "      <td>Portugal</td>\n",
       "      <td>1.702088</td>\n",
       "      <td>Bank Transfer</td>\n",
       "      <td>17.524056</td>\n",
       "      <td>Accessories</td>\n",
       "      <td>Online</td>\n",
       "      <td>Not Returned</td>\n",
       "      <td>FedEx</td>\n",
       "      <td>Unknown</td>\n",
       "      <td>Low</td>\n",
       "    </tr>\n",
       "    <tr>\n",
       "      <th>262</th>\n",
       "      <td>937291</td>\n",
       "      <td>SKU_1936</td>\n",
       "      <td>Wall Clock</td>\n",
       "      <td>-16</td>\n",
       "      <td>2020-01-11 22:00</td>\n",
       "      <td>-73.60</td>\n",
       "      <td>Unknown</td>\n",
       "      <td>Germany</td>\n",
       "      <td>1.535440</td>\n",
       "      <td>Credit Card</td>\n",
       "      <td>17.457077</td>\n",
       "      <td>Electronics</td>\n",
       "      <td>Online</td>\n",
       "      <td>Not Returned</td>\n",
       "      <td>DHL</td>\n",
       "      <td>Unknown</td>\n",
       "      <td>Medium</td>\n",
       "    </tr>\n",
       "    <tr>\n",
       "      <th>...</th>\n",
       "      <td>...</td>\n",
       "      <td>...</td>\n",
       "      <td>...</td>\n",
       "      <td>...</td>\n",
       "      <td>...</td>\n",
       "      <td>...</td>\n",
       "      <td>...</td>\n",
       "      <td>...</td>\n",
       "      <td>...</td>\n",
       "      <td>...</td>\n",
       "      <td>...</td>\n",
       "      <td>...</td>\n",
       "      <td>...</td>\n",
       "      <td>...</td>\n",
       "      <td>...</td>\n",
       "      <td>...</td>\n",
       "      <td>...</td>\n",
       "    </tr>\n",
       "    <tr>\n",
       "      <th>49691</th>\n",
       "      <td>553510</td>\n",
       "      <td>SKU_1943</td>\n",
       "      <td>T-shirt</td>\n",
       "      <td>-4</td>\n",
       "      <td>2025-09-01 11:00</td>\n",
       "      <td>-74.57</td>\n",
       "      <td>Unknown</td>\n",
       "      <td>France</td>\n",
       "      <td>1.306613</td>\n",
       "      <td>Credit Card</td>\n",
       "      <td>17.463875</td>\n",
       "      <td>Stationery</td>\n",
       "      <td>Online</td>\n",
       "      <td>Not Returned</td>\n",
       "      <td>Royal Mail</td>\n",
       "      <td>Unknown</td>\n",
       "      <td>Low</td>\n",
       "    </tr>\n",
       "    <tr>\n",
       "      <th>49695</th>\n",
       "      <td>855821</td>\n",
       "      <td>SKU_1500</td>\n",
       "      <td>Wireless Mouse</td>\n",
       "      <td>-11</td>\n",
       "      <td>2025-09-01 15:00</td>\n",
       "      <td>-18.88</td>\n",
       "      <td>Unknown</td>\n",
       "      <td>Portugal</td>\n",
       "      <td>1.569082</td>\n",
       "      <td>Bank Transfer</td>\n",
       "      <td>17.518234</td>\n",
       "      <td>Furniture</td>\n",
       "      <td>In-store</td>\n",
       "      <td>Not Returned</td>\n",
       "      <td>FedEx</td>\n",
       "      <td>Unknown</td>\n",
       "      <td>Low</td>\n",
       "    </tr>\n",
       "    <tr>\n",
       "      <th>49718</th>\n",
       "      <td>745888</td>\n",
       "      <td>SKU_1224</td>\n",
       "      <td>T-shirt</td>\n",
       "      <td>-2</td>\n",
       "      <td>2025-09-02 14:00</td>\n",
       "      <td>-84.25</td>\n",
       "      <td>Unknown</td>\n",
       "      <td>United States</td>\n",
       "      <td>1.420665</td>\n",
       "      <td>Bank Transfer</td>\n",
       "      <td>17.524056</td>\n",
       "      <td>Accessories</td>\n",
       "      <td>In-store</td>\n",
       "      <td>Not Returned</td>\n",
       "      <td>Royal Mail</td>\n",
       "      <td>Unknown</td>\n",
       "      <td>Medium</td>\n",
       "    </tr>\n",
       "    <tr>\n",
       "      <th>49730</th>\n",
       "      <td>487771</td>\n",
       "      <td>SKU_1083</td>\n",
       "      <td>Wall Clock</td>\n",
       "      <td>-7</td>\n",
       "      <td>2025-09-03 02:00</td>\n",
       "      <td>-57.31</td>\n",
       "      <td>Unknown</td>\n",
       "      <td>United Kingdom</td>\n",
       "      <td>1.139869</td>\n",
       "      <td>paypall</td>\n",
       "      <td>17.524056</td>\n",
       "      <td>Accessories</td>\n",
       "      <td>Online</td>\n",
       "      <td>Not Returned</td>\n",
       "      <td>DHL</td>\n",
       "      <td>Unknown</td>\n",
       "      <td>Low</td>\n",
       "    </tr>\n",
       "    <tr>\n",
       "      <th>49739</th>\n",
       "      <td>106493</td>\n",
       "      <td>SKU_1736</td>\n",
       "      <td>Desk Lamp</td>\n",
       "      <td>-40</td>\n",
       "      <td>2025-09-03 11:00</td>\n",
       "      <td>-51.34</td>\n",
       "      <td>Unknown</td>\n",
       "      <td>Netherlands</td>\n",
       "      <td>0.230000</td>\n",
       "      <td>Bank Transfer</td>\n",
       "      <td>17.524056</td>\n",
       "      <td>Accessories</td>\n",
       "      <td>In-store</td>\n",
       "      <td>Not Returned</td>\n",
       "      <td>FedEx</td>\n",
       "      <td>Unknown</td>\n",
       "      <td>Medium</td>\n",
       "    </tr>\n",
       "  </tbody>\n",
       "</table>\n",
       "<p>1493 rows × 17 columns</p>\n",
       "</div>"
      ],
      "text/plain": [
       "       InvoiceNo StockCode     Description  Quantity       InvoiceDate  \\\n",
       "4         359178  SKU_1386       USB Cable       -30  2020-01-01 04:00   \n",
       "147       747972  SKU_1514       Desk Lamp       -26  2020-01-07 03:00   \n",
       "167       318969  SKU_1115       Desk Lamp       -19  2020-01-07 23:00   \n",
       "199       867595  SKU_1343       White Mug        -2  2020-01-09 07:00   \n",
       "262       937291  SKU_1936      Wall Clock       -16  2020-01-11 22:00   \n",
       "...          ...       ...             ...       ...               ...   \n",
       "49691     553510  SKU_1943         T-shirt        -4  2025-09-01 11:00   \n",
       "49695     855821  SKU_1500  Wireless Mouse       -11  2025-09-01 15:00   \n",
       "49718     745888  SKU_1224         T-shirt        -2  2025-09-02 14:00   \n",
       "49730     487771  SKU_1083      Wall Clock        -7  2025-09-03 02:00   \n",
       "49739     106493  SKU_1736       Desk Lamp       -40  2025-09-03 11:00   \n",
       "\n",
       "       UnitPrice CustomerID         Country  Discount  PaymentMethod  \\\n",
       "4         -68.11    Unknown  United Kingdom  1.501433  Bank Transfer   \n",
       "147       -72.33    Unknown     Netherlands  1.972087        paypall   \n",
       "167        -3.61    Unknown           Italy  1.052254    Credit Card   \n",
       "199       -96.08    Unknown        Portugal  1.702088  Bank Transfer   \n",
       "262       -73.60    Unknown         Germany  1.535440    Credit Card   \n",
       "...          ...        ...             ...       ...            ...   \n",
       "49691     -74.57    Unknown          France  1.306613    Credit Card   \n",
       "49695     -18.88    Unknown        Portugal  1.569082  Bank Transfer   \n",
       "49718     -84.25    Unknown   United States  1.420665  Bank Transfer   \n",
       "49730     -57.31    Unknown  United Kingdom  1.139869        paypall   \n",
       "49739     -51.34    Unknown     Netherlands  0.230000  Bank Transfer   \n",
       "\n",
       "       ShippingCost     Category SalesChannel  ReturnStatus ShipmentProvider  \\\n",
       "4         17.457077  Electronics     In-store  Not Returned            FedEx   \n",
       "147       17.457077  Electronics     In-store  Not Returned       Royal Mail   \n",
       "167       17.509095      Apparel     In-store  Not Returned              UPS   \n",
       "199       17.524056  Accessories       Online  Not Returned            FedEx   \n",
       "262       17.457077  Electronics       Online  Not Returned              DHL   \n",
       "...             ...          ...          ...           ...              ...   \n",
       "49691     17.463875   Stationery       Online  Not Returned       Royal Mail   \n",
       "49695     17.518234    Furniture     In-store  Not Returned            FedEx   \n",
       "49718     17.524056  Accessories     In-store  Not Returned       Royal Mail   \n",
       "49730     17.524056  Accessories       Online  Not Returned              DHL   \n",
       "49739     17.524056  Accessories     In-store  Not Returned            FedEx   \n",
       "\n",
       "      WarehouseLocation OrderPriority  \n",
       "4               Unknown        Medium  \n",
       "147             Unknown           Low  \n",
       "167             Unknown          High  \n",
       "199             Unknown           Low  \n",
       "262             Unknown        Medium  \n",
       "...                 ...           ...  \n",
       "49691           Unknown           Low  \n",
       "49695           Unknown           Low  \n",
       "49718           Unknown        Medium  \n",
       "49730           Unknown           Low  \n",
       "49739           Unknown        Medium  \n",
       "\n",
       "[1493 rows x 17 columns]"
      ]
     },
     "execution_count": 14,
     "metadata": {},
     "output_type": "execute_result"
    }
   ],
   "source": [
    "df[df['UnitPrice'] < 0]"
   ]
  },
  {
   "cell_type": "markdown",
   "id": "5865f922",
   "metadata": {
    "papermill": {
     "duration": 0.010681,
     "end_time": "2024-11-21T20:44:15.336829",
     "exception": false,
     "start_time": "2024-11-21T20:44:15.326148",
     "status": "completed"
    },
    "tags": []
   },
   "source": [
    "# Negatif Satışları Görselleştirme\n",
    "Ürünler ve Negatif değerdeki Quantity görselleştirmesi\n"
   ]
  },
  {
   "cell_type": "code",
   "execution_count": 15,
   "id": "3d088e51",
   "metadata": {
    "execution": {
     "iopub.execute_input": "2024-11-21T20:44:15.363129Z",
     "iopub.status.busy": "2024-11-21T20:44:15.362710Z",
     "iopub.status.idle": "2024-11-21T20:44:15.376507Z",
     "shell.execute_reply": "2024-11-21T20:44:15.375135Z"
    },
    "papermill": {
     "duration": 0.031179,
     "end_time": "2024-11-21T20:44:15.379253",
     "exception": false,
     "start_time": "2024-11-21T20:44:15.348074",
     "status": "completed"
    },
    "tags": []
   },
   "outputs": [],
   "source": [
    "negative_quantity = df[df['Quantity'] < 0]\n",
    "product_returns = negative_quantity['Description'].value_counts().head(10)"
   ]
  },
  {
   "cell_type": "code",
   "execution_count": 16,
   "id": "4451c451",
   "metadata": {
    "execution": {
     "iopub.execute_input": "2024-11-21T20:44:15.402942Z",
     "iopub.status.busy": "2024-11-21T20:44:15.402575Z",
     "iopub.status.idle": "2024-11-21T20:44:15.668569Z",
     "shell.execute_reply": "2024-11-21T20:44:15.667347Z"
    },
    "papermill": {
     "duration": 0.280656,
     "end_time": "2024-11-21T20:44:15.671130",
     "exception": false,
     "start_time": "2024-11-21T20:44:15.390474",
     "status": "completed"
    },
    "tags": []
   },
   "outputs": [
    {
     "data": {
      "image/png": "[encoded data removed]",
      "text/plain": [
       "<Figure size 1200x600 with 1 Axes>"
      ]
     },
     "metadata": {},
     "output_type": "display_data"
    }
   ],
   "source": [
    "plt.figure(figsize=(12, 6))\n",
    "sns.barplot(x=product_returns.values, y=product_returns.index, palette=\"viridis\")\n",
    "plt.xlabel(\"Quantity\", fontsize=12)\n",
    "plt.ylabel(\"Description\", fontsize=12)\n",
    "plt.show()"
   ]
  },
  {
   "cell_type": "markdown",
   "id": "8722f1f1",
   "metadata": {
    "papermill": {
     "duration": 0.012762,
     "end_time": "2024-11-21T20:44:15.695557",
     "exception": false,
     "start_time": "2024-11-21T20:44:15.682795",
     "status": "completed"
    },
    "tags": []
   },
   "source": [
    "# Yeni Özellikler (Feature Engineering) \n",
    "Veri setine toplam satış ekledim: (Quantity * UnitPrice) * (1 - Discount)"
   ]
  },
  {
   "cell_type": "code",
   "execution_count": 17,
   "id": "442eccc1",
   "metadata": {
    "execution": {
     "iopub.execute_input": "2024-11-21T20:44:15.719920Z",
     "iopub.status.busy": "2024-11-21T20:44:15.719550Z",
     "iopub.status.idle": "2024-11-21T20:44:15.727817Z",
     "shell.execute_reply": "2024-11-21T20:44:15.726660Z"
    },
    "papermill": {
     "duration": 0.023445,
     "end_time": "2024-11-21T20:44:15.730375",
     "exception": false,
     "start_time": "2024-11-21T20:44:15.706930",
     "status": "completed"
    },
    "tags": []
   },
   "outputs": [],
   "source": [
    "df['TotalSales'] = df['Quantity'] * df['UnitPrice'] * (1 - df['Discount'])\n"
   ]
  },
  {
   "cell_type": "markdown",
   "id": "765063f7",
   "metadata": {
    "papermill": {
     "duration": 0.011997,
     "end_time": "2024-11-21T20:44:15.755291",
     "exception": false,
     "start_time": "2024-11-21T20:44:15.743294",
     "status": "completed"
    },
    "tags": []
   },
   "source": [
    "ProfitMargin (Kar Marjı): Ürün başına kargo maliyetini düşerek kar marjını hesaplayabilirsiniz.\n"
   ]
  },
  {
   "cell_type": "code",
   "execution_count": 18,
   "id": "dcb73c77",
   "metadata": {
    "execution": {
     "iopub.execute_input": "2024-11-21T20:44:15.781320Z",
     "iopub.status.busy": "2024-11-21T20:44:15.780864Z",
     "iopub.status.idle": "2024-11-21T20:44:15.788798Z",
     "shell.execute_reply": "2024-11-21T20:44:15.787490Z"
    },
    "papermill": {
     "duration": 0.023154,
     "end_time": "2024-11-21T20:44:15.791164",
     "exception": false,
     "start_time": "2024-11-21T20:44:15.768010",
     "status": "completed"
    },
    "tags": []
   },
   "outputs": [],
   "source": [
    "df['ProfitMargin'] = df['TotalSales'] - df['ShippingCost']\n"
   ]
  },
  {
   "cell_type": "code",
   "execution_count": 19,
   "id": "fd67c43d",
   "metadata": {
    "execution": {
     "iopub.execute_input": "2024-11-21T20:44:15.817694Z",
     "iopub.status.busy": "2024-11-21T20:44:15.817306Z",
     "iopub.status.idle": "2024-11-21T20:44:15.839925Z",
     "shell.execute_reply": "2024-11-21T20:44:15.838767Z"
    },
    "papermill": {
     "duration": 0.039111,
     "end_time": "2024-11-21T20:44:15.842353",
     "exception": false,
     "start_time": "2024-11-21T20:44:15.803242",
     "status": "completed"
    },
    "tags": []
   },
   "outputs": [
    {
     "data": {
      "text/html": [
       "<div>\n",
       "<style scoped>\n",
       "    .dataframe tbody tr th:only-of-type {\n",
       "        vertical-align: middle;\n",
       "    }\n",
       "\n",
       "    .dataframe tbody tr th {\n",
       "        vertical-align: top;\n",
       "    }\n",
       "\n",
       "    .dataframe thead th {\n",
       "        text-align: right;\n",
       "    }\n",
       "</style>\n",
       "<table border=\"1\" class=\"dataframe\">\n",
       "  <thead>\n",
       "    <tr style=\"text-align: right;\">\n",
       "      <th></th>\n",
       "      <th>InvoiceNo</th>\n",
       "      <th>StockCode</th>\n",
       "      <th>Description</th>\n",
       "      <th>Quantity</th>\n",
       "      <th>InvoiceDate</th>\n",
       "      <th>UnitPrice</th>\n",
       "      <th>CustomerID</th>\n",
       "      <th>Country</th>\n",
       "      <th>Discount</th>\n",
       "      <th>PaymentMethod</th>\n",
       "      <th>ShippingCost</th>\n",
       "      <th>Category</th>\n",
       "      <th>SalesChannel</th>\n",
       "      <th>ReturnStatus</th>\n",
       "      <th>ShipmentProvider</th>\n",
       "      <th>WarehouseLocation</th>\n",
       "      <th>OrderPriority</th>\n",
       "      <th>TotalSales</th>\n",
       "      <th>ProfitMargin</th>\n",
       "    </tr>\n",
       "  </thead>\n",
       "  <tbody>\n",
       "    <tr>\n",
       "      <th>0</th>\n",
       "      <td>221958</td>\n",
       "      <td>SKU_1964</td>\n",
       "      <td>White Mug</td>\n",
       "      <td>38</td>\n",
       "      <td>2020-01-01 00:00</td>\n",
       "      <td>1.71</td>\n",
       "      <td>37039.0</td>\n",
       "      <td>Australia</td>\n",
       "      <td>0.470000</td>\n",
       "      <td>Bank Transfer</td>\n",
       "      <td>10.790000</td>\n",
       "      <td>Apparel</td>\n",
       "      <td>In-store</td>\n",
       "      <td>Not Returned</td>\n",
       "      <td>UPS</td>\n",
       "      <td>London</td>\n",
       "      <td>Medium</td>\n",
       "      <td>34.439400</td>\n",
       "      <td>23.649400</td>\n",
       "    </tr>\n",
       "    <tr>\n",
       "      <th>1</th>\n",
       "      <td>771155</td>\n",
       "      <td>SKU_1241</td>\n",
       "      <td>White Mug</td>\n",
       "      <td>18</td>\n",
       "      <td>2020-01-01 01:00</td>\n",
       "      <td>41.25</td>\n",
       "      <td>19144.0</td>\n",
       "      <td>Spain</td>\n",
       "      <td>0.190000</td>\n",
       "      <td>paypall</td>\n",
       "      <td>9.510000</td>\n",
       "      <td>Electronics</td>\n",
       "      <td>Online</td>\n",
       "      <td>Not Returned</td>\n",
       "      <td>UPS</td>\n",
       "      <td>Rome</td>\n",
       "      <td>Medium</td>\n",
       "      <td>601.425000</td>\n",
       "      <td>591.915000</td>\n",
       "    </tr>\n",
       "    <tr>\n",
       "      <th>2</th>\n",
       "      <td>231932</td>\n",
       "      <td>SKU_1501</td>\n",
       "      <td>Headphones</td>\n",
       "      <td>49</td>\n",
       "      <td>2020-01-01 02:00</td>\n",
       "      <td>29.11</td>\n",
       "      <td>50472.0</td>\n",
       "      <td>Germany</td>\n",
       "      <td>0.350000</td>\n",
       "      <td>Bank Transfer</td>\n",
       "      <td>23.030000</td>\n",
       "      <td>Electronics</td>\n",
       "      <td>Online</td>\n",
       "      <td>Returned</td>\n",
       "      <td>UPS</td>\n",
       "      <td>Berlin</td>\n",
       "      <td>High</td>\n",
       "      <td>927.153500</td>\n",
       "      <td>904.123500</td>\n",
       "    </tr>\n",
       "    <tr>\n",
       "      <th>3</th>\n",
       "      <td>465838</td>\n",
       "      <td>SKU_1760</td>\n",
       "      <td>Desk Lamp</td>\n",
       "      <td>14</td>\n",
       "      <td>2020-01-01 03:00</td>\n",
       "      <td>76.68</td>\n",
       "      <td>96586.0</td>\n",
       "      <td>Netherlands</td>\n",
       "      <td>0.140000</td>\n",
       "      <td>paypall</td>\n",
       "      <td>11.080000</td>\n",
       "      <td>Accessories</td>\n",
       "      <td>Online</td>\n",
       "      <td>Not Returned</td>\n",
       "      <td>Royal Mail</td>\n",
       "      <td>Rome</td>\n",
       "      <td>Low</td>\n",
       "      <td>923.227200</td>\n",
       "      <td>912.147200</td>\n",
       "    </tr>\n",
       "    <tr>\n",
       "      <th>4</th>\n",
       "      <td>359178</td>\n",
       "      <td>SKU_1386</td>\n",
       "      <td>USB Cable</td>\n",
       "      <td>-30</td>\n",
       "      <td>2020-01-01 04:00</td>\n",
       "      <td>-68.11</td>\n",
       "      <td>Unknown</td>\n",
       "      <td>United Kingdom</td>\n",
       "      <td>1.501433</td>\n",
       "      <td>Bank Transfer</td>\n",
       "      <td>17.457077</td>\n",
       "      <td>Electronics</td>\n",
       "      <td>In-store</td>\n",
       "      <td>Not Returned</td>\n",
       "      <td>FedEx</td>\n",
       "      <td>Unknown</td>\n",
       "      <td>Medium</td>\n",
       "      <td>-1024.578137</td>\n",
       "      <td>-1042.035215</td>\n",
       "    </tr>\n",
       "    <tr>\n",
       "      <th>5</th>\n",
       "      <td>744167</td>\n",
       "      <td>SKU_1006</td>\n",
       "      <td>Office Chair</td>\n",
       "      <td>47</td>\n",
       "      <td>2020-01-01 05:00</td>\n",
       "      <td>70.16</td>\n",
       "      <td>53887.0</td>\n",
       "      <td>Sweden</td>\n",
       "      <td>0.480000</td>\n",
       "      <td>Credit Card</td>\n",
       "      <td>13.980000</td>\n",
       "      <td>Electronics</td>\n",
       "      <td>Online</td>\n",
       "      <td>Not Returned</td>\n",
       "      <td>DHL</td>\n",
       "      <td>London</td>\n",
       "      <td>Medium</td>\n",
       "      <td>1714.710400</td>\n",
       "      <td>1700.730400</td>\n",
       "    </tr>\n",
       "    <tr>\n",
       "      <th>6</th>\n",
       "      <td>210268</td>\n",
       "      <td>SKU_1087</td>\n",
       "      <td>USB Cable</td>\n",
       "      <td>25</td>\n",
       "      <td>2020-01-01 06:00</td>\n",
       "      <td>85.74</td>\n",
       "      <td>46567.0</td>\n",
       "      <td>Belgium</td>\n",
       "      <td>0.150000</td>\n",
       "      <td>Bank Transfer</td>\n",
       "      <td>12.920000</td>\n",
       "      <td>Stationery</td>\n",
       "      <td>Online</td>\n",
       "      <td>Not Returned</td>\n",
       "      <td>FedEx</td>\n",
       "      <td>Amsterdam</td>\n",
       "      <td>High</td>\n",
       "      <td>1821.975000</td>\n",
       "      <td>1809.055000</td>\n",
       "    </tr>\n",
       "    <tr>\n",
       "      <th>7</th>\n",
       "      <td>832180</td>\n",
       "      <td>SKU_1597</td>\n",
       "      <td>Notebook</td>\n",
       "      <td>8</td>\n",
       "      <td>2020-01-01 07:00</td>\n",
       "      <td>95.65</td>\n",
       "      <td>75098.0</td>\n",
       "      <td>Norway</td>\n",
       "      <td>0.040000</td>\n",
       "      <td>Bank Transfer</td>\n",
       "      <td>6.480000</td>\n",
       "      <td>Electronics</td>\n",
       "      <td>In-store</td>\n",
       "      <td>Not Returned</td>\n",
       "      <td>Royal Mail</td>\n",
       "      <td>Amsterdam</td>\n",
       "      <td>Low</td>\n",
       "      <td>734.592000</td>\n",
       "      <td>728.112000</td>\n",
       "    </tr>\n",
       "    <tr>\n",
       "      <th>8</th>\n",
       "      <td>154886</td>\n",
       "      <td>SKU_1907</td>\n",
       "      <td>Wireless Mouse</td>\n",
       "      <td>19</td>\n",
       "      <td>2020-01-01 08:00</td>\n",
       "      <td>98.19</td>\n",
       "      <td>87950.0</td>\n",
       "      <td>Belgium</td>\n",
       "      <td>0.050000</td>\n",
       "      <td>paypall</td>\n",
       "      <td>12.560000</td>\n",
       "      <td>Apparel</td>\n",
       "      <td>Online</td>\n",
       "      <td>Not Returned</td>\n",
       "      <td>UPS</td>\n",
       "      <td>Berlin</td>\n",
       "      <td>High</td>\n",
       "      <td>1772.329500</td>\n",
       "      <td>1759.769500</td>\n",
       "    </tr>\n",
       "    <tr>\n",
       "      <th>9</th>\n",
       "      <td>237337</td>\n",
       "      <td>SKU_1866</td>\n",
       "      <td>Headphones</td>\n",
       "      <td>40</td>\n",
       "      <td>2020-01-01 09:00</td>\n",
       "      <td>98.17</td>\n",
       "      <td>39718.0</td>\n",
       "      <td>Italy</td>\n",
       "      <td>0.160000</td>\n",
       "      <td>Bank Transfer</td>\n",
       "      <td>7.710000</td>\n",
       "      <td>Apparel</td>\n",
       "      <td>Online</td>\n",
       "      <td>Not Returned</td>\n",
       "      <td>Royal Mail</td>\n",
       "      <td>London</td>\n",
       "      <td>Low</td>\n",
       "      <td>3298.512000</td>\n",
       "      <td>3290.802000</td>\n",
       "    </tr>\n",
       "  </tbody>\n",
       "</table>\n",
       "</div>"
      ],
      "text/plain": [
       "   InvoiceNo StockCode     Description  Quantity       InvoiceDate  UnitPrice  \\\n",
       "0     221958  SKU_1964       White Mug        38  2020-01-01 00:00       1.71   \n",
       "1     771155  SKU_1241       White Mug        18  2020-01-01 01:00      41.25   \n",
       "2     231932  SKU_1501      Headphones        49  2020-01-01 02:00      29.11   \n",
       "3     465838  SKU_1760       Desk Lamp        14  2020-01-01 03:00      76.68   \n",
       "4     359178  SKU_1386       USB Cable       -30  2020-01-01 04:00     -68.11   \n",
       "5     744167  SKU_1006    Office Chair        47  2020-01-01 05:00      70.16   \n",
       "6     210268  SKU_1087       USB Cable        25  2020-01-01 06:00      85.74   \n",
       "7     832180  SKU_1597        Notebook         8  2020-01-01 07:00      95.65   \n",
       "8     154886  SKU_1907  Wireless Mouse        19  2020-01-01 08:00      98.19   \n",
       "9     237337  SKU_1866      Headphones        40  2020-01-01 09:00      98.17   \n",
       "\n",
       "  CustomerID         Country  Discount  PaymentMethod  ShippingCost  \\\n",
       "0    37039.0       Australia  0.470000  Bank Transfer     10.790000   \n",
       "1    19144.0           Spain  0.190000        paypall      9.510000   \n",
       "2    50472.0         Germany  0.350000  Bank Transfer     23.030000   \n",
       "3    96586.0     Netherlands  0.140000        paypall     11.080000   \n",
       "4    Unknown  United Kingdom  1.501433  Bank Transfer     17.457077   \n",
       "5    53887.0          Sweden  0.480000    Credit Card     13.980000   \n",
       "6    46567.0         Belgium  0.150000  Bank Transfer     12.920000   \n",
       "7    75098.0          Norway  0.040000  Bank Transfer      6.480000   \n",
       "8    87950.0         Belgium  0.050000        paypall     12.560000   \n",
       "9    39718.0           Italy  0.160000  Bank Transfer      7.710000   \n",
       "\n",
       "      Category SalesChannel  ReturnStatus ShipmentProvider WarehouseLocation  \\\n",
       "0      Apparel     In-store  Not Returned              UPS            London   \n",
       "1  Electronics       Online  Not Returned              UPS              Rome   \n",
       "2  Electronics       Online      Returned              UPS            Berlin   \n",
       "3  Accessories       Online  Not Returned       Royal Mail              Rome   \n",
       "4  Electronics     In-store  Not Returned            FedEx           Unknown   \n",
       "5  Electronics       Online  Not Returned              DHL            London   \n",
       "6   Stationery       Online  Not Returned            FedEx         Amsterdam   \n",
       "7  Electronics     In-store  Not Returned       Royal Mail         Amsterdam   \n",
       "8      Apparel       Online  Not Returned              UPS            Berlin   \n",
       "9      Apparel       Online  Not Returned       Royal Mail            London   \n",
       "\n",
       "  OrderPriority   TotalSales  ProfitMargin  \n",
       "0        Medium    34.439400     23.649400  \n",
       "1        Medium   601.425000    591.915000  \n",
       "2          High   927.153500    904.123500  \n",
       "3           Low   923.227200    912.147200  \n",
       "4        Medium -1024.578137  -1042.035215  \n",
       "5        Medium  1714.710400   1700.730400  \n",
       "6          High  1821.975000   1809.055000  \n",
       "7           Low   734.592000    728.112000  \n",
       "8          High  1772.329500   1759.769500  \n",
       "9           Low  3298.512000   3290.802000  "
      ]
     },
     "execution_count": 19,
     "metadata": {},
     "output_type": "execute_result"
    }
   ],
   "source": [
    "df.head(10)"
   ]
  },
  {
   "cell_type": "markdown",
   "id": "79e31b07",
   "metadata": {
    "papermill": {
     "duration": 0.012169,
     "end_time": "2024-11-21T20:44:15.866767",
     "exception": false,
     "start_time": "2024-11-21T20:44:15.854598",
     "status": "completed"
    },
    "tags": []
   },
   "source": [
    "#  Keşifsel Veri Analizi (EDA)\n",
    "\n",
    "**1.  Satış Trendlerini İnceleme:**  \n",
    "\n",
    "Zaman bazlı satış analizi yapmak için InvoiceDate sütununu kullandım. Aylık satış trendlerini incelemek, verinin zaman içinde nasıl değiştiğini anlamamıza yardımcı olur. Bu, gelecekteki satışları tahmin etmek için faydalı olabilir."
   ]
  },
  {
   "cell_type": "code",
   "execution_count": 20,
   "id": "a64b2639",
   "metadata": {
    "execution": {
     "iopub.execute_input": "2024-11-21T20:44:15.893734Z",
     "iopub.status.busy": "2024-11-21T20:44:15.893321Z",
     "iopub.status.idle": "2024-11-21T20:44:15.918145Z",
     "shell.execute_reply": "2024-11-21T20:44:15.916827Z"
    },
    "papermill": {
     "duration": 0.041906,
     "end_time": "2024-11-21T20:44:15.921153",
     "exception": false,
     "start_time": "2024-11-21T20:44:15.879247",
     "status": "completed"
    },
    "tags": []
   },
   "outputs": [],
   "source": [
    "# Tarih sütununu datetime formatına çevirme\n",
    "df['InvoiceDate'] = pd.to_datetime(df['InvoiceDate'])"
   ]
  },
  {
   "cell_type": "code",
   "execution_count": 21,
   "id": "d500a6a9",
   "metadata": {
    "execution": {
     "iopub.execute_input": "2024-11-21T20:44:15.948146Z",
     "iopub.status.busy": "2024-11-21T20:44:15.947743Z",
     "iopub.status.idle": "2024-11-21T20:44:16.328212Z",
     "shell.execute_reply": "2024-11-21T20:44:16.327058Z"
    },
    "papermill": {
     "duration": 0.396417,
     "end_time": "2024-11-21T20:44:16.330831",
     "exception": false,
     "start_time": "2024-11-21T20:44:15.934414",
     "status": "completed"
    },
    "tags": []
   },
   "outputs": [
    {
     "data": {
      "text/plain": [
       "<Axes: title={'center': 'Aylık Satış Trendleri'}, xlabel='InvoiceDate', ylabel='Toplam Satış'>"
      ]
     },
     "execution_count": 21,
     "metadata": {},
     "output_type": "execute_result"
    },
    {
     "data": {
      "image/png": "[encoded data removed]",
      "text/plain": [
       "<Figure size 640x480 with 1 Axes>"
      ]
     },
     "metadata": {},
     "output_type": "display_data"
    }
   ],
   "source": [
    "# Aylık toplam satışları görselleştirme\n",
    "monthly_sales = df.groupby(df['InvoiceDate'].dt.to_period('M'))['TotalSales'].sum()\n",
    "monthly_sales.plot(kind='line', title='Aylık Satış Trendleri', ylabel='Toplam Satış')"
   ]
  },
  {
   "cell_type": "markdown",
   "id": "c28e36e3",
   "metadata": {
    "papermill": {
     "duration": 0.01215,
     "end_time": "2024-11-21T20:44:16.355490",
     "exception": false,
     "start_time": "2024-11-21T20:44:16.343340",
     "status": "completed"
    },
    "tags": []
   },
   "source": [
    "**2.  İndirimlerin Satışlara Etkisi:**          \n",
    "\n",
    "İndirim oranlarına göre satış miktarlarını karşılaştırabiliriz. İndirimlerin satışlar üzerindeki etkisini görselleştirmek, verinin içindeki olası ilişkileri anlamaya yardımcı olur. Bu, fiyatlandırma stratejileri üzerine çıkarımlar yapabilmek için önemlidir."
   ]
  },
  {
   "cell_type": "code",
   "execution_count": 22,
   "id": "a16a6249",
   "metadata": {
    "execution": {
     "iopub.execute_input": "2024-11-21T20:44:16.383432Z",
     "iopub.status.busy": "2024-11-21T20:44:16.382952Z",
     "iopub.status.idle": "2024-11-21T20:44:34.289185Z",
     "shell.execute_reply": "2024-11-21T20:44:34.287948Z"
    },
    "papermill": {
     "duration": 17.92387,
     "end_time": "2024-11-21T20:44:34.291676",
     "exception": false,
     "start_time": "2024-11-21T20:44:16.367806",
     "status": "completed"
    },
    "tags": []
   },
   "outputs": [
    {
     "data": {
      "text/plain": [
       "<Axes: xlabel='Discount', ylabel='TotalSales'>"
      ]
     },
     "execution_count": 22,
     "metadata": {},
     "output_type": "execute_result"
    },
    {
     "data": {
      "image/png": "[encoded data removed]",
      "text/plain": [
       "<Figure size 640x480 with 1 Axes>"
      ]
     },
     "metadata": {},
     "output_type": "display_data"
    }
   ],
   "source": [
    "sns.boxplot(x='Discount', y='TotalSales', data=df)"
   ]
  },
  {
   "cell_type": "markdown",
   "id": "eb2f0242",
   "metadata": {
    "papermill": {
     "duration": 0.012653,
     "end_time": "2024-11-21T20:44:34.317437",
     "exception": false,
     "start_time": "2024-11-21T20:44:34.304784",
     "status": "completed"
    },
    "tags": []
   },
   "source": [
    "**3. Ürün Kategorilerine Göre Satış Dağılımı:**    \n",
    "\n",
    "Bar grafikleri ile ürün kategorilerinin satışlarının dağılımını inceleyelim. Ürün kategorilerine göre satışların dağılımı, hangi ürünlerin daha çok satıldığını ve hangi kategorilerin daha fazla gelir getirdiğini analiz etmemizi sağlar."
   ]
  },
  {
   "cell_type": "code",
   "execution_count": 23,
   "id": "a5dbfc21",
   "metadata": {
    "execution": {
     "iopub.execute_input": "2024-11-21T20:44:34.345682Z",
     "iopub.status.busy": "2024-11-21T20:44:34.344803Z",
     "iopub.status.idle": "2024-11-21T20:44:34.356021Z",
     "shell.execute_reply": "2024-11-21T20:44:34.354942Z"
    },
    "papermill": {
     "duration": 0.028027,
     "end_time": "2024-11-21T20:44:34.358605",
     "exception": false,
     "start_time": "2024-11-21T20:44:34.330578",
     "status": "completed"
    },
    "tags": []
   },
   "outputs": [],
   "source": [
    "# Kategori bazında toplam satışları hesapla\n",
    "category_sales = df.groupby('Category')['TotalSales'].sum().sort_values(ascending=False)"
   ]
  },
  {
   "cell_type": "code",
   "execution_count": 24,
   "id": "18d4e29f",
   "metadata": {
    "execution": {
     "iopub.execute_input": "2024-11-21T20:44:34.386412Z",
     "iopub.status.busy": "2024-11-21T20:44:34.386047Z",
     "iopub.status.idle": "2024-11-21T20:44:34.651604Z",
     "shell.execute_reply": "2024-11-21T20:44:34.650383Z"
    },
    "papermill": {
     "duration": 0.282321,
     "end_time": "2024-11-21T20:44:34.654090",
     "exception": false,
     "start_time": "2024-11-21T20:44:34.371769",
     "status": "completed"
    },
    "tags": []
   },
   "outputs": [
    {
     "data": {
      "image/png": "[encoded data removed]",
      "text/plain": [
       "<Figure size 1000x600 with 1 Axes>"
      ]
     },
     "metadata": {},
     "output_type": "display_data"
    }
   ],
   "source": [
    "plt.figure(figsize=(10, 6))\n",
    "category_sales.plot(kind='bar', color='skyblue')\n",
    "plt.title('Ürün Kategorilerine Göre Toplam Satışlar', fontsize=16)\n",
    "plt.xlabel('Kategori', fontsize=12)\n",
    "plt.ylabel('Toplam Satış (USD)', fontsize=12)\n",
    "plt.xticks(rotation=45)\n",
    "plt.show()"
   ]
  },
  {
   "cell_type": "markdown",
   "id": "5e31ab5b",
   "metadata": {
    "papermill": {
     "duration": 0.013436,
     "end_time": "2024-11-21T20:44:34.681292",
     "exception": false,
     "start_time": "2024-11-21T20:44:34.667856",
     "status": "completed"
    },
    "tags": []
   },
   "source": [
    "**4. Satış Kanalı ve İade Durumu Dağılımı:**          \n",
    "\n",
    "Satış kanalı ile iade durumu arasındaki ilişkiyi inceledim. Satış kanalı ile iade durumu arasındaki ilişkiyi incelemek, müşteri memnuniyeti ve satış stratejileri üzerine çıkarımlar yapmamıza olanak tanır."
   ]
  },
  {
   "cell_type": "code",
   "execution_count": 25,
   "id": "1cd1d425",
   "metadata": {
    "execution": {
     "iopub.execute_input": "2024-11-21T20:44:34.710725Z",
     "iopub.status.busy": "2024-11-21T20:44:34.710375Z",
     "iopub.status.idle": "2024-11-21T20:44:35.008672Z",
     "shell.execute_reply": "2024-11-21T20:44:35.007508Z"
    },
    "papermill": {
     "duration": 0.316143,
     "end_time": "2024-11-21T20:44:35.011208",
     "exception": false,
     "start_time": "2024-11-21T20:44:34.695065",
     "status": "completed"
    },
    "tags": []
   },
   "outputs": [
    {
     "data": {
      "image/png": "[encoded data removed]",
      "text/plain": [
       "<Figure size 1000x600 with 1 Axes>"
      ]
     },
     "metadata": {},
     "output_type": "display_data"
    }
   ],
   "source": [
    "plt.figure(figsize=(10, 6))\n",
    "sns.countplot(x='SalesChannel', hue='ReturnStatus', data=df, palette='Set2')\n",
    "plt.title('Satış Kanalı ve İade Durumu Dağılımı', fontsize=16)\n",
    "plt.xlabel('Satış Kanalı', fontsize=12)\n",
    "plt.ylabel('Satış Sayısı', fontsize=12)\n",
    "plt.legend(title='İade Durumu')\n",
    "plt.show()"
   ]
  },
  {
   "cell_type": "markdown",
   "id": "5cf7c9eb",
   "metadata": {
    "papermill": {
     "duration": 0.01444,
     "end_time": "2024-11-21T20:44:35.040354",
     "exception": false,
     "start_time": "2024-11-21T20:44:35.025914",
     "status": "completed"
    },
    "tags": []
   },
   "source": [
    "**5. Kargo Sağlayıcılarının Performansı:**  \n",
    "\n",
    "Kargo sağlayıcılarının iade oranlarını analiz ettim. Kargo sağlayıcılarının iade oranları gibi metrikleri görselleştirmek, lojistik ve müşteri memnuniyeti üzerinde nasıl iyileştirmeler yapılabileceğine dair bilgiler sunar."
   ]
  },
  {
   "cell_type": "code",
   "execution_count": 26,
   "id": "7277fa95",
   "metadata": {
    "execution": {
     "iopub.execute_input": "2024-11-21T20:44:35.072226Z",
     "iopub.status.busy": "2024-11-21T20:44:35.071215Z",
     "iopub.status.idle": "2024-11-21T20:44:35.094237Z",
     "shell.execute_reply": "2024-11-21T20:44:35.092936Z"
    },
    "papermill": {
     "duration": 0.041883,
     "end_time": "2024-11-21T20:44:35.096885",
     "exception": false,
     "start_time": "2024-11-21T20:44:35.055002",
     "status": "completed"
    },
    "tags": []
   },
   "outputs": [],
   "source": [
    "# Kargo sağlayıcılarına göre iade oranı\n",
    "returns_by_provider = df[df['ReturnStatus'] == 'Returned'].groupby('ShipmentProvider')['ReturnStatus'].count()\n",
    "total_by_provider = df.groupby('ShipmentProvider')['ReturnStatus'].count()\n",
    "return_rate = (returns_by_provider / total_by_provider) * 100"
   ]
  },
  {
   "cell_type": "code",
   "execution_count": 27,
   "id": "b453642c",
   "metadata": {
    "execution": {
     "iopub.execute_input": "2024-11-21T20:44:35.130132Z",
     "iopub.status.busy": "2024-11-21T20:44:35.129706Z",
     "iopub.status.idle": "2024-11-21T20:44:35.382689Z",
     "shell.execute_reply": "2024-11-21T20:44:35.381337Z"
    },
    "papermill": {
     "duration": 0.272471,
     "end_time": "2024-11-21T20:44:35.385735",
     "exception": false,
     "start_time": "2024-11-21T20:44:35.113264",
     "status": "completed"
    },
    "tags": []
   },
   "outputs": [
    {
     "data": {
      "image/png": "[encoded data removed]",
      "text/plain": [
       "<Figure size 1000x600 with 1 Axes>"
      ]
     },
     "metadata": {},
     "output_type": "display_data"
    }
   ],
   "source": [
    "plt.figure(figsize=(10, 6))\n",
    "return_rate.plot(kind='bar', color='salmon')\n",
    "plt.title('Kargo Sağlayıcılarına Göre İade Oranı (%)', fontsize=16)\n",
    "plt.xlabel('Kargo Sağlayıcısı', fontsize=12)\n",
    "plt.ylabel('İade Oranı (%)', fontsize=12)\n",
    "plt.xticks(rotation=45)\n",
    "plt.show()"
   ]
  },
  {
   "cell_type": "markdown",
   "id": "ed1963f8",
   "metadata": {
    "papermill": {
     "duration": 0.015153,
     "end_time": "2024-11-21T20:44:35.416349",
     "exception": false,
     "start_time": "2024-11-21T20:44:35.401196",
     "status": "completed"
    },
    "tags": []
   },
   "source": [
    "**6. Korelasyon Analizi :** \n",
    "\n",
    "Korelasyon matrisi ile sayısal değişkenler arasındaki ilişkileri görmek, hangi faktörlerin birbirleriyle ilişkili olduğunu anlamamıza yardımcı olur. Sayısal sütunlar arasındaki ilişkileri görselleştirmek için korelasyon matrisi oluşturabiliriz."
   ]
  },
  {
   "cell_type": "code",
   "execution_count": 28,
   "id": "68ccfcd4",
   "metadata": {
    "execution": {
     "iopub.execute_input": "2024-11-21T20:44:35.447966Z",
     "iopub.status.busy": "2024-11-21T20:44:35.447549Z",
     "iopub.status.idle": "2024-11-21T20:44:35.468346Z",
     "shell.execute_reply": "2024-11-21T20:44:35.467084Z"
    },
    "papermill": {
     "duration": 0.039915,
     "end_time": "2024-11-21T20:44:35.471118",
     "exception": false,
     "start_time": "2024-11-21T20:44:35.431203",
     "status": "completed"
    },
    "tags": []
   },
   "outputs": [],
   "source": [
    "# Sayısal sütunları seç\n",
    "numerical_columns = df.select_dtypes(include=['float64', 'int64']).columns\n",
    "\n",
    "# Sayısal verilerle korelasyon matrisini oluştur\n",
    "corr_matrix = df[numerical_columns].corr()"
   ]
  },
  {
   "cell_type": "code",
   "execution_count": 29,
   "id": "1f6424a9",
   "metadata": {
    "execution": {
     "iopub.execute_input": "2024-11-21T20:44:35.504431Z",
     "iopub.status.busy": "2024-11-21T20:44:35.504052Z",
     "iopub.status.idle": "2024-11-21T20:44:35.955814Z",
     "shell.execute_reply": "2024-11-21T20:44:35.954646Z"
    },
    "papermill": {
     "duration": 0.471376,
     "end_time": "2024-11-21T20:44:35.958384",
     "exception": false,
     "start_time": "2024-11-21T20:44:35.487008",
     "status": "completed"
    },
    "tags": []
   },
   "outputs": [
    {
     "data": {
      "image/png": "[encoded data removed]",
      "text/plain": [
       "<Figure size 1200x800 with 2 Axes>"
      ]
     },
     "metadata": {},
     "output_type": "display_data"
    }
   ],
   "source": [
    "plt.figure(figsize=(12, 8))\n",
    "sns.heatmap(corr_matrix, annot=True, fmt='.2f', cmap='coolwarm', cbar=True)\n",
    "plt.title('Korelasyon Matrisi', fontsize=16)\n",
    "plt.show()"
   ]
  },
  {
   "cell_type": "markdown",
   "id": "4404ecc2",
   "metadata": {
    "papermill": {
     "duration": 0.015957,
     "end_time": "2024-11-21T20:44:35.990851",
     "exception": false,
     "start_time": "2024-11-21T20:44:35.974894",
     "status": "completed"
    },
    "tags": []
   },
   "source": [
    "# # Sonuç ve Öneriler\n",
    "## 1. İndirimlerin Satışlara Etkisi\r\n",
    "**Gözlemler:**\r\n",
    "- İndirim oranları satış miktarını artırsa da kar marjını düşürebilir.\r\n",
    "\r\n",
    "**Öneriler:**\r\n",
    "- Fiyatlandırma stratejileri için indirimlerin optimize edilmesi gerekmektedir. İndirimlerin etkisini analiz ederek uygun oranlar belirlenmelidir.\r\n",
    "- Özellikle düşük performanslı kategorilerde stratejik indirimler uygulanabilir.\r\n",
    "\r\n",
    "---\r\n",
    "\r\n",
    "## 2. Kargo Sağlayıcılarının Performansı\r\n",
    "**Gözlemler:**\r\n",
    "- Bazı kargo sağlayıcılarında iade oranları yüksektir.\r\n",
    "\r\n",
    "**Öneriler:**\r\n",
    "- Lojistik süreçlerinde iyileştirme yapılmalı; müşteri memnuniyetine odaklanılmalıdır.\r\n",
    "- İade oranları yüksek sağlayıcılar yerine daha güvenilir alternatifler tercih edilebilir.\r\n",
    "\r\n",
    "---\r\n",
    "\r\n",
    "## 3. Ürün Performansı\r\n",
    "**Gözlemler:**\r\n",
    "- Bazı ürün kategorileri satışlarda büyük pay sahibi iken diğer kategoriler düşük performans göstermektedir.\r\n",
    "\r\n",
    "**Öneriler:**\r\n",
    "- Çok satan ürünlerin stok yönetimi iyileştirilmeli, stok tükenme sorunları önlenmelidir.\r\n",
    "- Düşük satışlı ürünlerde çapraz satış ve kampanyalar ile gelir artırılabilir.\r\n",
    "\r\n",
    "---\r\n",
    "\r\n",
    "## 4. Modelleme Önerisi\r\n",
    "**Gözlemler:**\r\n",
    "- Bu veri seti makine öğrenimi modelleri ile daha fazla işlevsel hale getirilebilir.\r\n",
    "\r\n",
    "**Öneriler:**\r\n",
    "- Örneğin, `Random Forest Regressor` kullanıltirilmiş kampanyalar uygulanabilir.\r\n",
    "\r\n"
   ]
  },
  {
   "cell_type": "markdown",
   "id": "0dd6f905",
   "metadata": {
    "papermill": {
     "duration": 0.01609,
     "end_time": "2024-11-21T20:44:36.022839",
     "exception": false,
     "start_time": "2024-11-21T20:44:36.006749",
     "status": "completed"
    },
    "tags": []
   },
   "source": [
    "## Modelleme "
   ]
  },
  {
   "cell_type": "code",
   "execution_count": 30,
   "id": "f07e21cb",
   "metadata": {
    "execution": {
     "iopub.execute_input": "2024-11-21T20:44:36.058795Z",
     "iopub.status.busy": "2024-11-21T20:44:36.057924Z",
     "iopub.status.idle": "2024-11-21T20:44:36.720365Z",
     "shell.execute_reply": "2024-11-21T20:44:36.719061Z"
    },
    "papermill": {
     "duration": 0.682854,
     "end_time": "2024-11-21T20:44:36.723164",
     "exception": false,
     "start_time": "2024-11-21T20:44:36.040310",
     "status": "completed"
    },
    "tags": []
   },
   "outputs": [],
   "source": [
    "from sklearn.model_selection import train_test_split\n",
    "from sklearn.ensemble import RandomForestRegressor\n",
    "from sklearn.metrics import mean_squared_error\n"
   ]
  },
  {
   "cell_type": "code",
   "execution_count": 31,
   "id": "f8303613",
   "metadata": {
    "execution": {
     "iopub.execute_input": "2024-11-21T20:44:36.759753Z",
     "iopub.status.busy": "2024-11-21T20:44:36.759009Z",
     "iopub.status.idle": "2024-11-21T20:44:36.764177Z",
     "shell.execute_reply": "2024-11-21T20:44:36.762959Z"
    },
    "papermill": {
     "duration": 0.026269,
     "end_time": "2024-11-21T20:44:36.766561",
     "exception": false,
     "start_time": "2024-11-21T20:44:36.740292",
     "status": "completed"
    },
    "tags": []
   },
   "outputs": [],
   "source": [
    "# Model için veri hazırlığı\n",
    "features = ['Quantity', 'UnitPrice', 'Discount', 'ShippingCost']\n",
    "target = 'TotalSales'"
   ]
  },
  {
   "cell_type": "code",
   "execution_count": 32,
   "id": "1017e863",
   "metadata": {
    "execution": {
     "iopub.execute_input": "2024-11-21T20:44:36.803000Z",
     "iopub.status.busy": "2024-11-21T20:44:36.802585Z",
     "iopub.status.idle": "2024-11-21T20:44:36.809354Z",
     "shell.execute_reply": "2024-11-21T20:44:36.808255Z"
    },
    "papermill": {
     "duration": 0.028091,
     "end_time": "2024-11-21T20:44:36.812408",
     "exception": false,
     "start_time": "2024-11-21T20:44:36.784317",
     "status": "completed"
    },
    "tags": []
   },
   "outputs": [],
   "source": [
    "X = df[features]\n",
    "y = df[target]"
   ]
  },
  {
   "cell_type": "code",
   "execution_count": 33,
   "id": "2da00224",
   "metadata": {
    "execution": {
     "iopub.execute_input": "2024-11-21T20:44:36.846697Z",
     "iopub.status.busy": "2024-11-21T20:44:36.846305Z",
     "iopub.status.idle": "2024-11-21T20:44:36.859003Z",
     "shell.execute_reply": "2024-11-21T20:44:36.857961Z"
    },
    "papermill": {
     "duration": 0.032375,
     "end_time": "2024-11-21T20:44:36.861456",
     "exception": false,
     "start_time": "2024-11-21T20:44:36.829081",
     "status": "completed"
    },
    "tags": []
   },
   "outputs": [],
   "source": [
    "# Veri setini eğitim ve test olarak böl\n",
    "X_train, X_test, y_train, y_test = train_test_split(X, y, test_size=0.2, random_state=42)"
   ]
  },
  {
   "cell_type": "code",
   "execution_count": 34,
   "id": "75539de2",
   "metadata": {
    "execution": {
     "iopub.execute_input": "2024-11-21T20:44:36.896834Z",
     "iopub.status.busy": "2024-11-21T20:44:36.896443Z",
     "iopub.status.idle": "2024-11-21T20:44:49.735703Z",
     "shell.execute_reply": "2024-11-21T20:44:49.734510Z"
    },
    "papermill": {
     "duration": 12.860724,
     "end_time": "2024-11-21T20:44:49.738202",
     "exception": false,
     "start_time": "2024-11-21T20:44:36.877478",
     "status": "completed"
    },
    "tags": []
   },
   "outputs": [
    {
     "data": {
      "text/html": [
       "<style>#sk-container-id-1 {color: black;background-color: white;}#sk-container-id-1 pre{padding: 0;}#sk-container-id-1 div.sk-toggleable {background-color: white;}#sk-container-id-1 label.sk-toggleable__label {cursor: pointer;display: block;width: 100%;margin-bottom: 0;padding: 0.3em;box-sizing: border-box;text-align: center;}#sk-container-id-1 label.sk-toggleable__label-arrow:before {content: \"▸\";float: left;margin-right: 0.25em;color: #696969;}#sk-container-id-1 label.sk-toggleable__label-arrow:hover:before {color: black;}#sk-container-id-1 div.sk-estimator:hover label.sk-toggleable__label-arrow:before {color: black;}#sk-container-id-1 div.sk-toggleable__content {max-height: 0;max-width: 0;overflow: hidden;text-align: left;background-color: #f0f8ff;}#sk-container-id-1 div.sk-toggleable__content pre {margin: 0.2em;color: black;border-radius: 0.25em;background-color: #f0f8ff;}#sk-container-id-1 input.sk-toggleable__control:checked~div.sk-toggleable__content {max-height: 200px;max-width: 100%;overflow: auto;}#sk-container-id-1 input.sk-toggleable__control:checked~label.sk-toggleable__label-arrow:before {content: \"▾\";}#sk-container-id-1 div.sk-estimator input.sk-toggleable__control:checked~label.sk-toggleable__label {background-color: #d4ebff;}#sk-container-id-1 div.sk-label input.sk-toggleable__control:checked~label.sk-toggleable__label {background-color: #d4ebff;}#sk-container-id-1 input.sk-hidden--visually {border: 0;clip: rect(1px 1px 1px 1px);clip: rect(1px, 1px, 1px, 1px);height: 1px;margin: -1px;overflow: hidden;padding: 0;position: absolute;width: 1px;}#sk-container-id-1 div.sk-estimator {font-family: monospace;background-color: #f0f8ff;border: 1px dotted black;border-radius: 0.25em;box-sizing: border-box;margin-bottom: 0.5em;}#sk-container-id-1 div.sk-estimator:hover {background-color: #d4ebff;}#sk-container-id-1 div.sk-parallel-item::after {content: \"\";width: 100%;border-bottom: 1px solid gray;flex-grow: 1;}#sk-container-id-1 div.sk-label:hover label.sk-toggleable__label {background-color: #d4ebff;}#sk-container-id-1 div.sk-serial::before {content: \"\";position: absolute;border-left: 1px solid gray;box-sizing: border-box;top: 0;bottom: 0;left: 50%;z-index: 0;}#sk-container-id-1 div.sk-serial {display: flex;flex-direction: column;align-items: center;background-color: white;padding-right: 0.2em;padding-left: 0.2em;position: relative;}#sk-container-id-1 div.sk-item {position: relative;z-index: 1;}#sk-container-id-1 div.sk-parallel {display: flex;align-items: stretch;justify-content: center;background-color: white;position: relative;}#sk-container-id-1 div.sk-item::before, #sk-container-id-1 div.sk-parallel-item::before {content: \"\";position: absolute;border-left: 1px solid gray;box-sizing: border-box;top: 0;bottom: 0;left: 50%;z-index: -1;}#sk-container-id-1 div.sk-parallel-item {display: flex;flex-direction: column;z-index: 1;position: relative;background-color: white;}#sk-container-id-1 div.sk-parallel-item:first-child::after {align-self: flex-end;width: 50%;}#sk-container-id-1 div.sk-parallel-item:last-child::after {align-self: flex-start;width: 50%;}#sk-container-id-1 div.sk-parallel-item:only-child::after {width: 0;}#sk-container-id-1 div.sk-dashed-wrapped {border: 1px dashed gray;margin: 0 0.4em 0.5em 0.4em;box-sizing: border-box;padding-bottom: 0.4em;background-color: white;}#sk-container-id-1 div.sk-label label {font-family: monospace;font-weight: bold;display: inline-block;line-height: 1.2em;}#sk-container-id-1 div.sk-label-container {text-align: center;}#sk-container-id-1 div.sk-container {/* jupyter's `normalize.less` sets `[hidden] { display: none; }` but bootstrap.min.css set `[hidden] { display: none !important; }` so we also need the `!important` here to be able to override the default hidden behavior on the sphinx rendered scikit-learn.org. See: https://github.com/scikit-learn/scikit-learn/issues/21755 */display: inline-block !important;position: relative;}#sk-container-id-1 div.sk-text-repr-fallback {display: none;}</style><div id=\"sk-container-id-1\" class=\"sk-top-container\"><div class=\"sk-text-repr-fallback\"><pre>RandomForestRegressor(random_state=42)</pre><b>In a Jupyter environment, please rerun this cell to show the HTML representation or trust the notebook. <br />On GitHub, the HTML representation is unable to render, please try loading this page with nbviewer.org.</b></div><div class=\"sk-container\" hidden><div class=\"sk-item\"><div class=\"sk-estimator sk-toggleable\"><input class=\"sk-toggleable__control sk-hidden--visually\" id=\"sk-estimator-id-1\" type=\"checkbox\" checked><label for=\"sk-estimator-id-1\" class=\"sk-toggleable__label sk-toggleable__label-arrow\">RandomForestRegressor</label><div class=\"sk-toggleable__content\"><pre>RandomForestRegressor(random_state=42)</pre></div></div></div></div></div>"
      ],
      "text/plain": [
       "RandomForestRegressor(random_state=42)"
      ]
     },
     "execution_count": 34,
     "metadata": {},
     "output_type": "execute_result"
    }
   ],
   "source": [
    "# Random Forest Modeli\n",
    "model = RandomForestRegressor(n_estimators=100, random_state=42)\n",
    "model.fit(X_train, y_train)"
   ]
  },
  {
   "cell_type": "code",
   "execution_count": 35,
   "id": "7a1a5b24",
   "metadata": {
    "execution": {
     "iopub.execute_input": "2024-11-21T20:44:49.773367Z",
     "iopub.status.busy": "2024-11-21T20:44:49.772958Z",
     "iopub.status.idle": "2024-11-21T20:44:50.094331Z",
     "shell.execute_reply": "2024-11-21T20:44:50.093113Z"
    },
    "papermill": {
     "duration": 0.341037,
     "end_time": "2024-11-21T20:44:50.096738",
     "exception": false,
     "start_time": "2024-11-21T20:44:49.755701",
     "status": "completed"
    },
    "tags": []
   },
   "outputs": [
    {
     "data": {
      "text/plain": [
       "362695.18742870534"
      ]
     },
     "execution_count": 35,
     "metadata": {},
     "output_type": "execute_result"
    }
   ],
   "source": [
    "# Tahminler ve Hata Hesaplama\n",
    "y_pred = model.predict(X_test)\n",
    "mse = mean_squared_error(y_test, y_pred)\n",
    "mse"
   ]
  },
  {
   "cell_type": "markdown",
   "id": "538c36ab",
   "metadata": {
    "papermill": {
     "duration": 0.016137,
     "end_time": "2024-11-21T20:44:50.130006",
     "exception": false,
     "start_time": "2024-11-21T20:44:50.113869",
     "status": "completed"
    },
    "tags": []
   },
   "source": [
    "### Model Performansı: Mean Squared Error (MSE)\r\n",
    "\r\n",
    "\r\n",
    "**Açıklama:MSE, modelin tahminleri ile gerçek değerler arasındaki ortalama kare farkını gösterir. Bu değer, modelimizin tahminlerinde belirli bir hata olduğunu gösteriyor. Daha iyi sonuçlar için modelin hiperparametre ayarları yapılabilir veya farklı algoritmalar denenebilir.ğlamaktadır.\r\n"
   ]
  }
 ],
 "metadata": {
  "kaggle": {
   "accelerator": "none",
   "dataSources": [
    {
     "datasetId": 5971331,
     "sourceId": 9752855,
     "sourceType": "datasetVersion"
    }
   ],
   "dockerImageVersionId": 30786,
   "isGpuEnabled": false,
   "isInternetEnabled": true,
   "language": "python",
   "sourceType": "notebook"
  },
  "kernelspec": {
   "display_name": "Python 3",
   "language": "python",
   "name": "python3"
  },
  "language_info": {
   "codemirror_mode": {
    "name": "ipython",
    "version": 3
   },
   "file_extension": ".py",
   "mimetype": "text/x-python",
   "name": "python",
   "nbconvert_exporter": "python",
   "pygments_lexer": "ipython3",
   "version": "3.10.14"
  },
  "papermill": {
   "default_parameters": {},
   "duration": 43.068301,
   "end_time": "2024-11-21T20:44:51.471143",
   "environment_variables": {},
   "exception": null,
   "input_path": "__notebook__.ipynb",
   "output_path": "__notebook__.ipynb",
   "parameters": {},
   "start_time": "2024-11-21T20:44:08.402842",
   "version": "2.6.0"
  }
 },
 "nbformat": 4,
 "nbformat_minor": 5
}
